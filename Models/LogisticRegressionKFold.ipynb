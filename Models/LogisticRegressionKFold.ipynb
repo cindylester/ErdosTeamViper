{
 "cells": [
  {
   "cell_type": "markdown",
   "metadata": {},
   "source": [
    "# Logistic Regression approach"
   ]
  },
  {
   "cell_type": "markdown",
   "metadata": {},
   "source": [
    "We try Logistic Regression with 'lbfgs' option, which stands for \"Limited-memory Broyden–Fletcher–Goldfarb–Shanno Algorithm\""
   ]
  },
  {
   "cell_type": "code",
   "execution_count": 3,
   "metadata": {},
   "outputs": [],
   "source": [
    "import numpy as np\n",
    "import pandas as pd\n",
    "import matplotlib.pyplot as plt\n",
    "from sklearn.model_selection import train_test_split, StratifiedKFold\n",
    "from sklearn.linear_model import LogisticRegression"
   ]
  },
  {
   "cell_type": "code",
   "execution_count": 2,
   "metadata": {},
   "outputs": [],
   "source": [
    "def accuracy(true, predicted): \n",
    "    return np.sum(true==predicted)/len(predicted)"
   ]
  },
  {
   "cell_type": "code",
   "execution_count": 4,
   "metadata": {},
   "outputs": [],
   "source": [
    "def lr_tester_Kfold(data, K):\n",
    "    '''\n",
    "    input: data = our food dataframe\n",
    "            K = number of folds for the K-fold validation\n",
    "    output: accuracy after K-fold run of LogisticRegression \n",
    "    '''\n",
    "    skf = StratifiedKFold(n_splits=K,shuffle=True,random_state=429)\n",
    "\n",
    "    # max_iter = 400 to suppress convergence warnings\n",
    "    clf = LogisticRegression(random_state=429,solver='lbfgs', max_iter=400) \n",
    "\n",
    "    X_train = data.drop(columns=['id','cuisine'])\n",
    "    y_train = data['cuisine']\n",
    "\n",
    "    accuracy_list = [] \n",
    "  \n",
    "    for train_idx, test_idx in skf.split(X_train,y_train):\n",
    "        X = X_train.iloc[train_idx].values\n",
    "        y = y_train.iloc[train_idx].values\n",
    "        X_holdout = X_train.iloc[test_idx].values\n",
    "        y_holdout = y_train.iloc[test_idx].values\n",
    "        clf.fit(X,y)\n",
    "        predictions = clf.predict(X_holdout)\n",
    "        score = accuracy(y_holdout,predictions)\n",
    "        accuracy_list.append(score)\n",
    "    \n",
    "    score = np.mean(accuracy_list)\n",
    "    return score"
   ]
  },
  {
   "cell_type": "code",
   "execution_count": 7,
   "metadata": {},
   "outputs": [],
   "source": [
    "kwd = pd.read_csv('key_words_data.csv')"
   ]
  },
  {
   "cell_type": "code",
   "execution_count": 8,
   "metadata": {},
   "outputs": [],
   "source": [
    "acc_kwd = lr_tester_Kfold(kwd,5)"
   ]
  },
  {
   "cell_type": "code",
   "execution_count": 9,
   "metadata": {},
   "outputs": [
    {
     "name": "stdout",
     "output_type": "stream",
     "text": [
      "0.7141851788576268\n"
     ]
    }
   ],
   "source": [
    "print(acc_kwd)"
   ]
  },
  {
   "cell_type": "code",
   "execution_count": 10,
   "metadata": {},
   "outputs": [],
   "source": [
    "tt = pd.read_csv('train_trimmed.csv')"
   ]
  },
  {
   "cell_type": "code",
   "execution_count": 11,
   "metadata": {},
   "outputs": [],
   "source": [
    "acc_tt = lr_tester_Kfold(tt,5)"
   ]
  },
  {
   "cell_type": "code",
   "execution_count": 12,
   "metadata": {},
   "outputs": [
    {
     "name": "stdout",
     "output_type": "stream",
     "text": [
      "0.747573892433346\n"
     ]
    }
   ],
   "source": [
    "print(acc_tt)"
   ]
  },
  {
   "cell_type": "markdown",
   "metadata": {},
   "source": [
    "### Summary"
   ]
  },
  {
   "cell_type": "markdown",
   "metadata": {},
   "source": [
    "Accuracy for \"key_words_data.csv\": 0.7141851788576268\n",
    "\n",
    "Accuracy for \"train_trimmed.csv\": 0.747573892433346"
   ]
  },
  {
   "cell_type": "markdown",
   "metadata": {},
   "source": [
    "## Confusion matrix"
   ]
  },
  {
   "cell_type": "markdown",
   "metadata": {},
   "source": [
    "We make the confusion matrix for a one-time run."
   ]
  },
  {
   "cell_type": "code",
   "execution_count": 19,
   "metadata": {},
   "outputs": [],
   "source": [
    "from sklearn.metrics import confusion_matrix\n",
    "from seaborn import heatmap\n",
    "cuisine_list = [\n",
    " 'italian',\n",
    " 'mexican',\n",
    " 'southern_us',\n",
    " 'indian',\n",
    " 'chinese',\n",
    " 'french',\n",
    " 'cajun_creole',\n",
    " 'thai',\n",
    " 'japanese',\n",
    " 'greek',\n",
    " 'spanish',\n",
    " 'korean',\n",
    " 'vietnamese',\n",
    " 'moroccan',\n",
    " 'british',\n",
    " 'filipino',\n",
    " 'irish',\n",
    " 'jamaican',\n",
    " 'russian',\n",
    " 'brazilian'] #Sorted by frequency\n",
    "\n",
    "def lr_tester(data_train,data_test):\n",
    "    X_train = data_train.drop(columns=['id','cuisine'])\n",
    "    y_train = data_train['cuisine']\n",
    "    y_test = data_test.drop(columns=['id','cuisine'])\n",
    "    clf = LogisticRegression(random_state=429,solver='lbfgs', max_iter=400)\n",
    "    clf.fit(X_train,y_train)\n",
    "    prediction = clf.predict(y_test)\n",
    "    acc = accuracy(data_test['cuisine'],prediction)\n",
    "    cm=confusion_matrix(data_test['cuisine'],prediction,labels=cuisine_list) #Confusion matrix\n",
    "    return acc,cm"
   ]
  },
  {
   "cell_type": "code",
   "execution_count": 21,
   "metadata": {},
   "outputs": [],
   "source": [
    "kwd_train, kwd_test = train_test_split(kwd, \n",
    "                                       random_state=429,\n",
    "                                       shuffle = True,\n",
    "                                       test_size = 0.2,\n",
    "                                       stratify = kwd.cuisine)"
   ]
  },
  {
   "cell_type": "code",
   "execution_count": 22,
   "metadata": {},
   "outputs": [],
   "source": [
    "acc1,cm1 = lr_tester(kwd_train,kwd_test)"
   ]
  },
  {
   "cell_type": "code",
   "execution_count": 24,
   "metadata": {},
   "outputs": [
    {
     "data": {
      "image/png": "[encoded data removed]",
      "text/plain": [
       "<Figure size 432x288 with 2 Axes>"
      ]
     },
     "metadata": {
      "needs_background": "light"
     },
     "output_type": "display_data"
    }
   ],
   "source": [
    "ax = heatmap(cm1, linewidth=0.5, cmap=\"YlGnBu\",xticklabels = cuisine_list,yticklabels = cuisine_list)"
   ]
  },
  {
   "cell_type": "code",
   "execution_count": 26,
   "metadata": {},
   "outputs": [],
   "source": [
    "tt_train, tt_test = train_test_split(tt, \n",
    "                                       random_state=429,\n",
    "                                       shuffle = True,\n",
    "                                       test_size = 0.2,\n",
    "                                       stratify = tt.cuisine)"
   ]
  },
  {
   "cell_type": "code",
   "execution_count": 27,
   "metadata": {},
   "outputs": [],
   "source": [
    "acc2,cm2 = lr_tester(tt_train,tt_test)"
   ]
  },
  {
   "cell_type": "code",
   "execution_count": 28,
   "metadata": {},
   "outputs": [
    {
     "data": {
      "image/png": "[encoded data removed]",
      "text/plain": [
       "<Figure size 432x288 with 2 Axes>"
      ]
     },
     "metadata": {
      "needs_background": "light"
     },
     "output_type": "display_data"
    }
   ],
   "source": [
    "ax2 = heatmap(cm2, linewidth=0.5, cmap=\"YlGnBu\",xticklabels = cuisine_list,yticklabels = cuisine_list)"
   ]
  },
  {
   "cell_type": "code",
   "execution_count": null,
   "metadata": {},
   "outputs": [],
   "source": []
  }
 ],
 "metadata": {
  "kernelspec": {
   "display_name": "Python 3",
   "language": "python",
   "name": "python3"
  },
  "language_info": {
   "codemirror_mode": {
    "name": "ipython",
    "version": 3
   },
   "file_extension": ".py",
   "mimetype": "text/x-python",
   "name": "python",
   "nbconvert_exporter": "python",
   "pygments_lexer": "ipython3",
   "version": "3.7.4"
  }
 },
 "nbformat": 4,
 "nbformat_minor": 2
}
