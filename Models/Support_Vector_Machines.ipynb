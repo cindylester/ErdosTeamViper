{
 "cells": [
  {
   "cell_type": "markdown",
   "id": "b81fda0d",
   "metadata": {},
   "source": [
    "# On Support Vector Machines"
   ]
  },
  {
   "cell_type": "markdown",
   "id": "64d577d5",
   "metadata": {},
   "source": [
    "Main information about document: support vector machines (abbreviated SVM) were checked on four datasets (called keywords, trimmed, removed, original) using k-fold cross-validation (5 splits). Note: Some different kernels were checked but only on the shorted dataset due to time and computer memory constraints.\n",
    "\n",
    "Layout:\n",
    "- Summary/what was the best model.\n",
    "- Background and functions used in the check.\n",
    "- Exploring C: comparing accuracies on LinearSVC for different values of C.\n",
    "- Bagging results on the best linear model.\n",
    "- Adaboosting results on the best linear model.\n",
    "- (Unfinished**) Exploring Kernels: comparing accuracies for different kernels (with C = 1).\n",
    "\n",
    "Indicators used to evaluate results:\n",
    "- The main indicator was the model's overall accuracy.\n",
    "- (Unused**) Additionally, each cuisine type has its own accuracy, precision, true positive rate, and false positive rate; each of which was compared across the different cuisine types using minimum, maximum, and average. \n",
    "\n",
    "Dataset Names (ordered from least features to most features):\n",
    "- Keywords (this data set replaced the ingredients by a list of key words)\n",
    "- Trimmed (this data set trimmed the original list of ingredients down to only those that appear at least 50 times)\n",
    "- Removed (this data set had many brand names, adjectives and descriptors removed)\n",
    "- Original (this is the uncleaned dataset)\n",
    "\n",
    "** The unfinished section and unused indicators are things I would like to look at in the future but did not get time to do before the project deadline. Additionally, in the future, I would like to compare the number of n_estimators in the bagging and adaboost."
   ]
  },
  {
   "cell_type": "markdown",
   "id": "07381b6a",
   "metadata": {},
   "source": [
    "# Best Model"
   ]
  },
  {
   "cell_type": "markdown",
   "id": "7cb32db7",
   "metadata": {},
   "source": [
    "The best linear support vector machine had C = 0.1. \n",
    "\n",
    "Datasets (in order from best to worst performing) along with their LinearSVM accuracy results (averaged across the splits, rounded to two decimal places and C = 0.1): \n",
    "1. Removed - 78.59% accuracy\n",
    "2. Original - 78.48% accuracy\n",
    "3. Trimmed - 74.93% accuracy\n",
    "4. Keywords - 70.71% accuracy"
   ]
  },
  {
   "cell_type": "markdown",
   "id": "6b51abcc",
   "metadata": {},
   "source": [
    "# Background Functions and loading"
   ]
  },
  {
   "cell_type": "markdown",
   "id": "5d5a85bf",
   "metadata": {},
   "source": [
    "-- Packages and Data --"
   ]
  },
  {
   "cell_type": "code",
   "execution_count": 1,
   "id": "7b26c1de",
   "metadata": {},
   "outputs": [],
   "source": [
    "import pandas as pd\n",
    "import numpy as np\n",
    "import matplotlib.pyplot as plt\n",
    "import seaborn as sns\n",
    "sns.set_style(\"whitegrid\")"
   ]
  },
  {
   "cell_type": "code",
   "execution_count": 2,
   "id": "d56139e8",
   "metadata": {},
   "outputs": [],
   "source": [
    "original = pd.read_csv(\"original_data.csv\")\n",
    "trimmed = pd.read_csv(\"train_trimmed.csv\")\n",
    "keywords = pd.read_csv(\"key_words_data.csv\")\n",
    "removed = pd.read_csv(\"remove_adj_data.csv\")"
   ]
  },
  {
   "cell_type": "code",
   "execution_count": 3,
   "id": "adf3c31d",
   "metadata": {},
   "outputs": [],
   "source": [
    "from statistics import mean\n",
    "from sklearn.model_selection import StratifiedKFold\n",
    "from sklearn.svm import LinearSVC\n",
    "from sklearn.svm import SVC\n",
    "from sklearn.metrics import confusion_matrix\n",
    "\n",
    "kfold = StratifiedKFold(n_splits = 5,\n",
    "                           shuffle = True,\n",
    "                           random_state = 429)"
   ]
  },
  {
   "cell_type": "code",
   "execution_count": 4,
   "id": "7ff3aae0",
   "metadata": {},
   "outputs": [],
   "source": [
    "SVM = LinearSVC(C = 0.1)"
   ]
  },
  {
   "cell_type": "markdown",
   "id": "c8e79667",
   "metadata": {},
   "source": [
    "-- Functions --"
   ]
  },
  {
   "cell_type": "code",
   "execution_count": 5,
   "id": "7a8c5b7a",
   "metadata": {},
   "outputs": [],
   "source": [
    "## This is the confusion matrix for the dataframe\n",
    "## This will be used in all functions in this document\n",
    "\n",
    "## First input is the correct answers\n",
    "    ## Specifically, our data is a subset of rows of a dataframe, one of whose columns is 'cuisine'.\n",
    "    ## For example, if we are using the entire original data set (from github) to fit the model and run predictions,\n",
    "        ## and name the dataframe \"original\", then we would use original['cuisine']\n",
    "## Second input is the prediction\n",
    "\n",
    "def our_matrix(data, prediction):\n",
    "    return(confusion_matrix(data, prediction))"
   ]
  },
  {
   "cell_type": "code",
   "execution_count": 6,
   "id": "4c1334ec",
   "metadata": {},
   "outputs": [],
   "source": [
    "## percentage of times the correct answer was predicted\n",
    "\n",
    "## First input: the correct answers\n",
    "## Second input: the prediction\n",
    "\n",
    "def total_accuracy(data, prediction):\n",
    "    cm = our_matrix(data, prediction)\n",
    "    denom = 0\n",
    "    for i in range(20):\n",
    "        denom = denom + cm[i][i]\n",
    "    return(denom/len(data))"
   ]
  },
  {
   "cell_type": "code",
   "execution_count": 7,
   "id": "00a66a09",
   "metadata": {},
   "outputs": [],
   "source": [
    "## For each cuisine type, we can find its true positive, false positive, false negative, and false positive values using these functions\n",
    "\n",
    "## First input: correct answers\n",
    "## Second input: cuisine type of interest\n",
    "    ## Warning: name must be entered with quotes, e.g. 'italian'\n",
    "## Third input: the model's predictions\n",
    "\n",
    "## True Positive for \"cuisine_type\" based on the \"prediction\"\n",
    "def tp_for_cuisine_type(data, cuisine_type, prediction):\n",
    "    cm = our_matrix(data, prediction)\n",
    "    i = data.value_counts().index.get_loc(cuisine_type)\n",
    "    return(cm[i][i])\n",
    "\n",
    "## False Positive for \"cuisine_type\" based on the \"prediction\"\n",
    "def fp_for_cuisine_type(data, cuisine_type, prediction):\n",
    "    cm = our_matrix(data, prediction)\n",
    "    n = data.value_counts().index.get_loc(cuisine_type)\n",
    "    summation = 0\n",
    "    for i in range(20):\n",
    "        if i != n:\n",
    "            summation = summation + cm[n][i]\n",
    "    return(summation)\n",
    "\n",
    "## False Negative for \"cuisine_type\" based on the \"prediction\"\n",
    "def fn_for_cuisine_type(data, cuisine_type, prediction):\n",
    "    cm = our_matrix(data, prediction)\n",
    "    n = data.value_counts().index.get_loc(cuisine_type)\n",
    "    summation = 0\n",
    "    for i in range(20):\n",
    "        if i != n:\n",
    "            summation = summation + cm[i][n]\n",
    "    return(summation)\n",
    "\n",
    "## True Negative for \"cuisine_type\" based on the \"prediction\"\n",
    "def tn_for_cuisine_type(data, cuisine_type, prediction):\n",
    "    cm = our_matrix(data, prediction)\n",
    "    n = data.value_counts().index.get_loc(cuisine_type)\n",
    "    summation = 0\n",
    "    for i in range(20):\n",
    "        for j in range(20):\n",
    "            if (i != n) and (j != n):\n",
    "                summation = summation + cm[i][j]\n",
    "    return(summation)"
   ]
  },
  {
   "cell_type": "markdown",
   "id": "594623c5",
   "metadata": {},
   "source": [
    "Reminder for myself: What do the functions mean? Note: \"cuisine_type\" is a fixed value.\n",
    "- Accuracy - probability of correct prediction (this is in the form \"cuisine_type\" or \"not cuisine_type\")\n",
    "- Precision - probability that recipe with predicted \"cuisine_type\" is \"cuisine_type\"\n",
    "- True positive rate - probability that recipe with \"cuisine_type\" is predicted to be \"cuisine_type\"\n",
    "- True negative rate - probability that recipe with \"not cuisine_type\" is predicted to be \"not cuisine_type\""
   ]
  },
  {
   "cell_type": "code",
   "execution_count": 8,
   "id": "c39416fe",
   "metadata": {},
   "outputs": [],
   "source": [
    "## Performance Indicators for each cuisine type\n",
    "\n",
    "## First input: correct answers\n",
    "## Second input: cuisine type of interest\n",
    "    ## Warning: name must be entered with quotes, e.g. 'italian'\n",
    "## Third input: the model's predictions\n",
    "\n",
    "def accuracy_for_cuisine_type(data, cuisine_type, prediction):\n",
    "    denom = tp_for_cuisine_type(data, cuisine_type, prediction) + tn_for_cuisine_type(data, cuisine_type, prediction)\n",
    "    numer = denom + fp_for_cuisine_type(data, cuisine_type, prediction) + fn_for_cuisine_type(data, cuisine_type, prediction)\n",
    "    return(denom/numer)\n",
    "\n",
    "def precision_for_cuisine_type(data, cuisine_type, prediction):\n",
    "    denom = tp_for_cuisine_type(data, cuisine_type, prediction)\n",
    "    numer = denom + fp_for_cuisine_type(data, cuisine_type, prediction)\n",
    "    return(denom/numer)\n",
    "\n",
    "def true_positive_rate_for_cuisine_type(data, cuisine_type, prediction):\n",
    "    denom = tp_for_cuisine_type(data, cuisine_type, prediction)\n",
    "    numer = denom + fn_for_cuisine_type(data, cuisine_type, prediction)\n",
    "    return(denom/numer)\n",
    "\n",
    "def true_negative_rate_for_cuisine_type(data, cuisine_type, prediction):\n",
    "    denom = tn_for_cuisine_type(data, cuisine_type, prediction)\n",
    "    numer = denom + fp_for_cuisine_type(data, cuisine_type, prediction)\n",
    "    return(denom/numer)"
   ]
  },
  {
   "cell_type": "code",
   "execution_count": 9,
   "id": "6c34ef79",
   "metadata": {},
   "outputs": [],
   "source": [
    "## Overall Performance Indicators\n",
    "\n",
    "## First input: dataframe column with the correct information, i.e. the correct answers\n",
    "## Second input: a \"_for_cuisine_type\" indicator\n",
    "## Third input: the predications from the model\n",
    "\n",
    "def indicator_average(data, function, prediction):\n",
    "    summation = 0\n",
    "    for i in range(20):\n",
    "        summation = summation + function(data, data.value_counts().index[i], prediction)\n",
    "    return(summation/20)\n",
    "\n",
    "## Fourth input: boolean\n",
    "    ## True returns the minimum value, False returns the associated cuisine type\n",
    "def min_of_indicator(data, function, prediction, boolean):\n",
    "    values = []\n",
    "    for i in range(20):\n",
    "        values.append(function(data, data.value_counts().index[i], prediction))\n",
    "    minimum = min(values)\n",
    "    temp_location = values.index(minimum)\n",
    "    location = data.value_counts().index[temp_location]\n",
    "    if boolean == True:\n",
    "        return(minimum)\n",
    "    if boolean == False:\n",
    "        return(location)\n",
    "\n",
    "## Fourth input: boolean\n",
    "    ## True returns the maximum value, False returns the associated cuisine type\n",
    "def max_of_indicator(data, function, prediction, boolean):\n",
    "    values = []\n",
    "    for i in range(20):\n",
    "        values.append(function(data, data.value_counts().index[i], prediction))\n",
    "    maximum = max(values)\n",
    "    temp_location = values.index(maximum)\n",
    "    location = data.value_counts().index[temp_location]\n",
    "    if boolean == True:\n",
    "        return(maximum)\n",
    "    if boolean == False:\n",
    "        return(location)"
   ]
  },
  {
   "cell_type": "code",
   "execution_count": 10,
   "id": "459f1b10",
   "metadata": {},
   "outputs": [],
   "source": [
    "## produces a dataframe containing some of the overall performance indicators for some of the indicators (accuracy, precision, true positive, true negative)\n",
    "\n",
    "def reduced_overall_indicator_df(data, prediction):\n",
    "    c1 = ['Average', 'Minimum Value', 'Maximum Value']\n",
    "    c2 = [indicator_average(data, accuracy_for_cuisine_type, prediction), min_of_indicator(data, accuracy_for_cuisine_type, prediction, True), max_of_indicator(data, accuracy_for_cuisine_type, prediction, True)]\n",
    "    c3 = [indicator_average(data, precision_for_cuisine_type, prediction), min_of_indicator(data, precision_for_cuisine_type, prediction, True), max_of_indicator(data, precision_for_cuisine_type, prediction, True)]\n",
    "    c4 = [indicator_average(data, true_positive_rate_for_cuisine_type, prediction), min_of_indicator(data, true_positive_rate_for_cuisine_type, prediction, True), max_of_indicator(data, true_positive_rate_for_cuisine_type, prediction, True)]\n",
    "    c5 = [indicator_average(data, true_negative_rate_for_cuisine_type, prediction), min_of_indicator(data, true_negative_rate_for_cuisine_type, prediction, True), max_of_indicator(data, true_negative_rate_for_cuisine_type, prediction, True)]\n",
    "    data = {'Accuracy':c2, 'Precision':c3, 'True Positive Rate':c4, 'True Negative Rate':c5}\n",
    "    df = pd.DataFrame(data, index = c1)\n",
    "    return(df)"
   ]
  },
  {
   "cell_type": "code",
   "execution_count": 11,
   "id": "e5c95788",
   "metadata": {},
   "outputs": [],
   "source": [
    "## an error function for a prediction\n",
    "\n",
    "## First input: correct answers\n",
    "## second input: model's prediction\n",
    "\n",
    "def error_function(data, prediction):\n",
    "    print(\"The total accuracy of the prediction is\", total_accuracy(data, prediction))\n",
    "    print()\n",
    "    print(\"Each cuisine type has its own accuracy, precision, true positive rate, and false positive rate.\")\n",
    "    print(\"If we compare those four indicators across all of the cuisines we get the following table:\")\n",
    "    print()\n",
    "    print(reduced_overall_indicator_df(data, prediction))"
   ]
  },
  {
   "cell_type": "code",
   "execution_count": 12,
   "id": "8f202cb3",
   "metadata": {},
   "outputs": [],
   "source": [
    "def cross_validation_with_model(dataframe, model):\n",
    "    i = 0\n",
    "    X = dataframe[dataframe.columns[2:]]\n",
    "    y = dataframe['cuisine']\n",
    "    for train_index, test_index in kfold.split(X, y):\n",
    "        # getting the kfold training data and holdout data\n",
    "        X_train = X.iloc[train_index]\n",
    "        X_holdout = X.iloc[test_index]\n",
    "        y_train = y.iloc[train_index]\n",
    "        y_holdout = y.iloc[test_index]\n",
    "        # fiting and predicting\n",
    "        model.fit(X_train, y_train)\n",
    "        pred = model.predict(X_holdout)\n",
    "        # error\n",
    "        print(\"----------------------------------------------------------\")\n",
    "        print()\n",
    "        print(\"Split\", i)\n",
    "        error_function(y_holdout, pred)\n",
    "        print()\n",
    "        i = i + 1"
   ]
  },
  {
   "cell_type": "code",
   "execution_count": 13,
   "id": "75014437",
   "metadata": {},
   "outputs": [],
   "source": [
    "def cross_validation_every_dataset(model):\n",
    "    print(\"__________________________________________________________\")\n",
    "    print(\"Key Words Data Set\")\n",
    "    print(\"__________________________________________________________\")\n",
    "    cross_validation_with_model(keywords, model)\n",
    "    print(\"__________________________________________________________\")\n",
    "    print(\"Trimmed Data Set\")\n",
    "    print(\"__________________________________________________________\")\n",
    "    cross_validation_with_model(trimmed, model)\n",
    "    print(\"__________________________________________________________\")\n",
    "    print(\"Removed Adjectives Data Set\")\n",
    "    print(\"__________________________________________________________\")\n",
    "    cross_validation_with_model(removed, model)\n",
    "    print(\"__________________________________________________________\")\n",
    "    print(\"Original Data Set\")\n",
    "    print(\"__________________________________________________________\")\n",
    "    cross_validation_with_model(original, model)"
   ]
  },
  {
   "cell_type": "code",
   "execution_count": 14,
   "id": "9de13474",
   "metadata": {},
   "outputs": [],
   "source": [
    "def average_total_accuracy_across_splits(dataframe, model):\n",
    "    X = dataframe[dataframe.columns[2:]]\n",
    "    y = dataframe['cuisine']\n",
    "    accuracies = []\n",
    "    for train_index, test_index in kfold.split(X, y):\n",
    "        # getting the kfold training data and holdout data\n",
    "        X_train = X.iloc[train_index]\n",
    "        X_holdout = X.iloc[test_index]\n",
    "        y_train = y.iloc[train_index]\n",
    "        y_holdout = y.iloc[test_index]\n",
    "        # fiting and predicting\n",
    "        model.fit(X_train, y_train)\n",
    "        pred = model.predict(X_holdout)\n",
    "        totac = total_accuracy(y_holdout, pred)\n",
    "        accuracies.append(totac)\n",
    "    print(\"The averaged total accuracy across all splits is\", mean(accuracies))\n",
    "    print()"
   ]
  },
  {
   "cell_type": "code",
   "execution_count": 15,
   "id": "8bb733c0",
   "metadata": {},
   "outputs": [],
   "source": [
    "def average_accuracy_every_dataset(model):\n",
    "    print(\"__________________________________________________________\")\n",
    "    print(\"Key Words Data Set\")\n",
    "    print(\"__________________________________________________________\")\n",
    "    average_total_accuracy_across_splits(keywords, model)\n",
    "    print(\"__________________________________________________________\")\n",
    "    print(\"Trimmed Data Set\")\n",
    "    print(\"__________________________________________________________\")\n",
    "    average_total_accuracy_across_splits(trimmed, model)\n",
    "    print(\"__________________________________________________________\")\n",
    "    print(\"Removed Adjectives Data Set\")\n",
    "    print(\"__________________________________________________________\")\n",
    "    average_total_accuracy_across_splits(removed, model)\n",
    "    print(\"__________________________________________________________\")\n",
    "    print(\"Original Data Set\")\n",
    "    print(\"__________________________________________________________\")\n",
    "    average_total_accuracy_across_splits(original, model)"
   ]
  },
  {
   "cell_type": "markdown",
   "id": "b3f169e4",
   "metadata": {},
   "source": [
    "# Exploring C: comparing accuracy on LinearSVC for different values of C"
   ]
  },
  {
   "cell_type": "markdown",
   "id": "b6c8881d",
   "metadata": {},
   "source": [
    "Here we explore C by comparing the total accuracy of the model LinearSVC (across the 5 k-fold cross-validation splits) for different values of C on every dataset. A graph is given at the end.\n",
    "\n",
    "Summary of section: C = 0.1 is the best."
   ]
  },
  {
   "cell_type": "code",
   "execution_count": 15,
   "id": "ef6f6f3b",
   "metadata": {},
   "outputs": [
    {
     "name": "stdout",
     "output_type": "stream",
     "text": [
      "----------------------------------------------------------\n",
      "__________________________________________________________\n",
      "C value is 10\n",
      "__________________________________________________________\n",
      "----------------------------------------------------------\n",
      "__________________________________________________________\n",
      "Key Words Data Set\n",
      "__________________________________________________________\n"
     ]
    },
    {
     "name": "stderr",
     "output_type": "stream",
     "text": [
      "C:\\ProgramData\\Anaconda3\\lib\\site-packages\\sklearn\\svm\\_base.py:985: ConvergenceWarning: Liblinear failed to converge, increase the number of iterations.\n",
      "  warnings.warn(\"Liblinear failed to converge, increase \"\n",
      "C:\\ProgramData\\Anaconda3\\lib\\site-packages\\sklearn\\svm\\_base.py:985: ConvergenceWarning: Liblinear failed to converge, increase the number of iterations.\n",
      "  warnings.warn(\"Liblinear failed to converge, increase \"\n",
      "C:\\ProgramData\\Anaconda3\\lib\\site-packages\\sklearn\\svm\\_base.py:985: ConvergenceWarning: Liblinear failed to converge, increase the number of iterations.\n",
      "  warnings.warn(\"Liblinear failed to converge, increase \"\n",
      "C:\\ProgramData\\Anaconda3\\lib\\site-packages\\sklearn\\svm\\_base.py:985: ConvergenceWarning: Liblinear failed to converge, increase the number of iterations.\n",
      "  warnings.warn(\"Liblinear failed to converge, increase \"\n",
      "C:\\ProgramData\\Anaconda3\\lib\\site-packages\\sklearn\\svm\\_base.py:985: ConvergenceWarning: Liblinear failed to converge, increase the number of iterations.\n",
      "  warnings.warn(\"Liblinear failed to converge, increase \"\n"
     ]
    },
    {
     "name": "stdout",
     "output_type": "stream",
     "text": [
      "The averaged total accuracy across all splits is 0.7069694173300374\n",
      "\n",
      "__________________________________________________________\n",
      "Trimmed Data Set\n",
      "__________________________________________________________\n"
     ]
    },
    {
     "name": "stderr",
     "output_type": "stream",
     "text": [
      "C:\\ProgramData\\Anaconda3\\lib\\site-packages\\sklearn\\svm\\_base.py:985: ConvergenceWarning: Liblinear failed to converge, increase the number of iterations.\n",
      "  warnings.warn(\"Liblinear failed to converge, increase \"\n",
      "C:\\ProgramData\\Anaconda3\\lib\\site-packages\\sklearn\\svm\\_base.py:985: ConvergenceWarning: Liblinear failed to converge, increase the number of iterations.\n",
      "  warnings.warn(\"Liblinear failed to converge, increase \"\n",
      "C:\\ProgramData\\Anaconda3\\lib\\site-packages\\sklearn\\svm\\_base.py:985: ConvergenceWarning: Liblinear failed to converge, increase the number of iterations.\n",
      "  warnings.warn(\"Liblinear failed to converge, increase \"\n",
      "C:\\ProgramData\\Anaconda3\\lib\\site-packages\\sklearn\\svm\\_base.py:985: ConvergenceWarning: Liblinear failed to converge, increase the number of iterations.\n",
      "  warnings.warn(\"Liblinear failed to converge, increase \"\n",
      "C:\\ProgramData\\Anaconda3\\lib\\site-packages\\sklearn\\svm\\_base.py:985: ConvergenceWarning: Liblinear failed to converge, increase the number of iterations.\n",
      "  warnings.warn(\"Liblinear failed to converge, increase \"\n"
     ]
    },
    {
     "name": "stdout",
     "output_type": "stream",
     "text": [
      "The averaged total accuracy across all splits is 0.735983409949763\n",
      "\n",
      "__________________________________________________________\n",
      "Removed Adjectives Data Set\n",
      "__________________________________________________________\n"
     ]
    },
    {
     "name": "stderr",
     "output_type": "stream",
     "text": [
      "C:\\ProgramData\\Anaconda3\\lib\\site-packages\\sklearn\\svm\\_base.py:985: ConvergenceWarning: Liblinear failed to converge, increase the number of iterations.\n",
      "  warnings.warn(\"Liblinear failed to converge, increase \"\n",
      "C:\\ProgramData\\Anaconda3\\lib\\site-packages\\sklearn\\svm\\_base.py:985: ConvergenceWarning: Liblinear failed to converge, increase the number of iterations.\n",
      "  warnings.warn(\"Liblinear failed to converge, increase \"\n",
      "C:\\ProgramData\\Anaconda3\\lib\\site-packages\\sklearn\\svm\\_base.py:985: ConvergenceWarning: Liblinear failed to converge, increase the number of iterations.\n",
      "  warnings.warn(\"Liblinear failed to converge, increase \"\n",
      "C:\\ProgramData\\Anaconda3\\lib\\site-packages\\sklearn\\svm\\_base.py:985: ConvergenceWarning: Liblinear failed to converge, increase the number of iterations.\n",
      "  warnings.warn(\"Liblinear failed to converge, increase \"\n",
      "C:\\ProgramData\\Anaconda3\\lib\\site-packages\\sklearn\\svm\\_base.py:985: ConvergenceWarning: Liblinear failed to converge, increase the number of iterations.\n",
      "  warnings.warn(\"Liblinear failed to converge, increase \"\n"
     ]
    },
    {
     "name": "stdout",
     "output_type": "stream",
     "text": [
      "The averaged total accuracy across all splits is 0.7410621191271559\n",
      "\n",
      "__________________________________________________________\n",
      "Original Data Set\n",
      "__________________________________________________________\n"
     ]
    },
    {
     "name": "stderr",
     "output_type": "stream",
     "text": [
      "C:\\ProgramData\\Anaconda3\\lib\\site-packages\\sklearn\\svm\\_base.py:985: ConvergenceWarning: Liblinear failed to converge, increase the number of iterations.\n",
      "  warnings.warn(\"Liblinear failed to converge, increase \"\n",
      "C:\\ProgramData\\Anaconda3\\lib\\site-packages\\sklearn\\svm\\_base.py:985: ConvergenceWarning: Liblinear failed to converge, increase the number of iterations.\n",
      "  warnings.warn(\"Liblinear failed to converge, increase \"\n",
      "C:\\ProgramData\\Anaconda3\\lib\\site-packages\\sklearn\\svm\\_base.py:985: ConvergenceWarning: Liblinear failed to converge, increase the number of iterations.\n",
      "  warnings.warn(\"Liblinear failed to converge, increase \"\n",
      "C:\\ProgramData\\Anaconda3\\lib\\site-packages\\sklearn\\svm\\_base.py:985: ConvergenceWarning: Liblinear failed to converge, increase the number of iterations.\n",
      "  warnings.warn(\"Liblinear failed to converge, increase \"\n",
      "C:\\ProgramData\\Anaconda3\\lib\\site-packages\\sklearn\\svm\\_base.py:985: ConvergenceWarning: Liblinear failed to converge, increase the number of iterations.\n",
      "  warnings.warn(\"Liblinear failed to converge, increase \"\n"
     ]
    },
    {
     "name": "stdout",
     "output_type": "stream",
     "text": [
      "The averaged total accuracy across all splits is 0.7283402758823638\n",
      "\n",
      "----------------------------------------------------------\n",
      "__________________________________________________________\n",
      "C value is 1\n",
      "__________________________________________________________\n",
      "----------------------------------------------------------\n",
      "__________________________________________________________\n",
      "Key Words Data Set\n",
      "__________________________________________________________\n",
      "The averaged total accuracy across all splits is 0.7081762560872092\n",
      "\n",
      "__________________________________________________________\n",
      "Trimmed Data Set\n",
      "__________________________________________________________\n",
      "The averaged total accuracy across all splits is 0.7456631413152338\n",
      "\n",
      "__________________________________________________________\n",
      "Removed Adjectives Data Set\n",
      "__________________________________________________________\n",
      "The averaged total accuracy across all splits is 0.7735707976426994\n",
      "\n",
      "__________________________________________________________\n",
      "Original Data Set\n",
      "__________________________________________________________\n",
      "The averaged total accuracy across all splits is 0.7664807906303482\n",
      "\n",
      "----------------------------------------------------------\n",
      "__________________________________________________________\n",
      "C value is 0.1\n",
      "__________________________________________________________\n",
      "----------------------------------------------------------\n",
      "__________________________________________________________\n",
      "Key Words Data Set\n",
      "__________________________________________________________\n",
      "The averaged total accuracy across all splits is 0.7071454357211414\n",
      "\n",
      "__________________________________________________________\n",
      "Trimmed Data Set\n",
      "__________________________________________________________\n",
      "The averaged total accuracy across all splits is 0.7492835848871425\n",
      "\n",
      "__________________________________________________________\n",
      "Removed Adjectives Data Set\n",
      "__________________________________________________________\n",
      "The averaged total accuracy across all splits is 0.7859155195801376\n",
      "\n",
      "__________________________________________________________\n",
      "Original Data Set\n",
      "__________________________________________________________\n",
      "The averaged total accuracy across all splits is 0.7847589921116186\n",
      "\n",
      "----------------------------------------------------------\n",
      "__________________________________________________________\n",
      "C value is 0.01\n",
      "__________________________________________________________\n",
      "----------------------------------------------------------\n",
      "__________________________________________________________\n",
      "Key Words Data Set\n",
      "__________________________________________________________\n",
      "The averaged total accuracy across all splits is 0.6900739086327148\n",
      "\n",
      "__________________________________________________________\n",
      "Trimmed Data Set\n",
      "__________________________________________________________\n",
      "The averaged total accuracy across all splits is 0.73397208050628\n",
      "\n",
      "__________________________________________________________\n",
      "Removed Adjectives Data Set\n",
      "__________________________________________________________\n",
      "The averaged total accuracy across all splits is 0.7576810058211839\n",
      "\n",
      "__________________________________________________________\n",
      "Original Data Set\n",
      "__________________________________________________________\n",
      "The averaged total accuracy across all splits is 0.7558707887765083\n",
      "\n"
     ]
    }
   ],
   "source": [
    "for C in [10, 1, 0.1, 0.01]:\n",
    "    print(\"----------------------------------------------------------\")\n",
    "    print(\"__________________________________________________________\")\n",
    "    print(\"C value is\", C)\n",
    "    print(\"__________________________________________________________\")\n",
    "    print(\"----------------------------------------------------------\")\n",
    "    svc_temp = LinearSVC(C=C)\n",
    "    average_accuracy_every_dataset(svc_temp)"
   ]
  },
  {
   "cell_type": "code",
   "execution_count": 16,
   "id": "8ae7c08f",
   "metadata": {},
   "outputs": [],
   "source": [
    "## Note: while this could be automated, the numbers take a long time to find and I didn't realized I wanted to plot this until it was well into the computation so doing it manually was shorter at that point.\n",
    "\n",
    "c_values = [10, 1, 0.1, 0.01]\n",
    "c_for_keywords = [0.7069694173300374, 0.7081762560872092, 0.7071454357211414, 0.6900739086327148]\n",
    "c_for_trimmed = [0.735983409949763, 0.7456631413152338, 0.7492835848871425, 0.73397208050628]\n",
    "c_for_removed = [0.7410621191271559, 0.7735707976426994, 0.7859155195801376, 0.7576810058211839]\n",
    "c_for_original = [0.7283402758823638, 0.7664807906303482, 0.7847589921116186, 0.7558707887765083]"
   ]
  },
  {
   "cell_type": "code",
   "execution_count": 17,
   "id": "2258a258",
   "metadata": {},
   "outputs": [],
   "source": [
    "from seaborn import swarmplot"
   ]
  },
  {
   "cell_type": "code",
   "execution_count": 34,
   "id": "da7ec7c0",
   "metadata": {},
   "outputs": [
    {
     "data": {
      "image/png": "[encoded data removed]",
      "text/plain": [
       "<Figure size 720x576 with 1 Axes>"
      ]
     },
     "metadata": {},
     "output_type": "display_data"
    }
   ],
   "source": [
    "plt.figure(figsize=(10,8))\n",
    "\n",
    "xi = list(range(len(c_values)))\n",
    "\n",
    "plt.plot(xi, c_for_keywords, marker = 'x', linestyle = '-', label = \"Keywords\")\n",
    "plt.plot(xi, c_for_trimmed, marker = '^', linestyle = '--', label = \"Trimmed\")\n",
    "plt.plot(xi, c_for_removed, marker = 'o', linestyle = '-.', label = \"Removed\")\n",
    "plt.plot(xi, c_for_original, marker = 'D', linestyle = ':', label = \"Original\")\n",
    "\n",
    "plt.xlabel(\"C values\", fontsize=18)\n",
    "plt.ylabel(\"Average Accuracies (%)\", fontsize=18)\n",
    "\n",
    "plt.xticks(xi, c_values, fontsize=14)\n",
    "plt.yticks(fontsize=14)\n",
    "\n",
    "plt.legend(fontsize=14)\n",
    "plt.title('Dataset accuracies for decreasing C values', fontsize=18)\n",
    "\n",
    "plt.show()"
   ]
  },
  {
   "cell_type": "markdown",
   "id": "eac0041f",
   "metadata": {},
   "source": [
    "# Bagging on Best Linear Model"
   ]
  },
  {
   "cell_type": "markdown",
   "id": "8b23ddf0",
   "metadata": {},
   "source": [
    "Summary of section: Accuracy was made worse by bagging. Note: compared accuracies below to accuracies in \"Exploring C\". Will not explore higher value for n_estimators due to how long 100 estimators took."
   ]
  },
  {
   "cell_type": "code",
   "execution_count": 19,
   "id": "fb8ba5ff",
   "metadata": {},
   "outputs": [],
   "source": [
    "from sklearn.ensemble import BaggingClassifier"
   ]
  },
  {
   "cell_type": "code",
   "execution_count": 20,
   "id": "f2c98243",
   "metadata": {},
   "outputs": [],
   "source": [
    "bag = BaggingClassifier(base_estimator = SVM,\n",
    "                           bootstrap = True,\n",
    "                           n_estimators = 100, # if time, change this number for futher tests\n",
    "                           max_samples = 3000)"
   ]
  },
  {
   "cell_type": "markdown",
   "id": "c04d162d",
   "metadata": {},
   "source": [
    "Bagging results on all datasets"
   ]
  },
  {
   "cell_type": "code",
   "execution_count": 21,
   "id": "95e68680",
   "metadata": {},
   "outputs": [
    {
     "name": "stdout",
     "output_type": "stream",
     "text": [
      "__________________________________________________________\n",
      "Key Words Data Set\n",
      "__________________________________________________________\n",
      "The averaged total accuracy across all splits is 0.6883643015219346\n",
      "\n",
      "__________________________________________________________\n",
      "Trimmed Data Set\n",
      "__________________________________________________________\n",
      "The averaged total accuracy across all splits is 0.7233871853035533\n",
      "\n",
      "__________________________________________________________\n",
      "Removed Adjectives Data Set\n",
      "__________________________________________________________\n",
      "The averaged total accuracy across all splits is 0.7409867106699475\n",
      "\n",
      "__________________________________________________________\n",
      "Original Data Set\n",
      "__________________________________________________________\n",
      "The averaged total accuracy across all splits is 0.7360336011260221\n",
      "\n"
     ]
    }
   ],
   "source": [
    "average_accuracy_every_dataset(bag)"
   ]
  },
  {
   "cell_type": "markdown",
   "id": "192184e0",
   "metadata": {},
   "source": [
    "# AdaBoost on Best Linear Model"
   ]
  },
  {
   "cell_type": "markdown",
   "id": "289fdec5",
   "metadata": {},
   "source": [
    "Summary of section: Accuracy was made worse by boosting. Note: compared accuracies below to accuracies in \"Exploring C\". Will not explore higher value for n_estimators due to how long 50 estimators."
   ]
  },
  {
   "cell_type": "code",
   "execution_count": 22,
   "id": "fe7e507b",
   "metadata": {},
   "outputs": [],
   "source": [
    "from sklearn.ensemble import AdaBoostClassifier"
   ]
  },
  {
   "cell_type": "code",
   "execution_count": 23,
   "id": "9b6c42a5",
   "metadata": {},
   "outputs": [],
   "source": [
    "ada_clf = AdaBoostClassifier(SVM,\n",
    "                                n_estimators=10, # if time, change this number for futher tests\n",
    "                                algorithm = 'SAMME',\n",
    "                                random_state=123)"
   ]
  },
  {
   "cell_type": "markdown",
   "id": "ff519e8e",
   "metadata": {},
   "source": [
    "Adaboost results on every dataset"
   ]
  },
  {
   "cell_type": "code",
   "execution_count": 24,
   "id": "8c5115c0",
   "metadata": {},
   "outputs": [
    {
     "name": "stdout",
     "output_type": "stream",
     "text": [
      "__________________________________________________________\n",
      "Key Words Data Set\n",
      "__________________________________________________________\n",
      "The averaged total accuracy across all splits is 0.500879785352831\n",
      "\n",
      "__________________________________________________________\n",
      "Trimmed Data Set\n",
      "__________________________________________________________\n",
      "The averaged total accuracy across all splits is 0.5215971344975913\n",
      "\n",
      "__________________________________________________________\n",
      "Removed Adjectives Data Set\n",
      "__________________________________________________________\n",
      "The averaged total accuracy across all splits is 0.5349732141460158\n",
      "\n",
      "__________________________________________________________\n",
      "Original Data Set\n",
      "__________________________________________________________\n",
      "The averaged total accuracy across all splits is 0.5244381529432199\n",
      "\n"
     ]
    }
   ],
   "source": [
    "average_accuracy_every_dataset(ada_clf)"
   ]
  },
  {
   "cell_type": "code",
   "execution_count": 25,
   "id": "5d8df5cc",
   "metadata": {},
   "outputs": [],
   "source": [
    "ada_50 = AdaBoostClassifier(SVM,\n",
    "                                n_estimators=50,\n",
    "                                algorithm = 'SAMME',\n",
    "                                random_state=123)"
   ]
  },
  {
   "cell_type": "code",
   "execution_count": 26,
   "id": "dfb5fc5e",
   "metadata": {},
   "outputs": [
    {
     "name": "stdout",
     "output_type": "stream",
     "text": [
      "__________________________________________________________\n",
      "Key Words Data Set\n",
      "__________________________________________________________\n",
      "The averaged total accuracy across all splits is 0.5308244593717458\n",
      "\n",
      "__________________________________________________________\n",
      "Trimmed Data Set\n",
      "__________________________________________________________\n",
      "The averaged total accuracy across all splits is 0.5824154507525753\n",
      "\n",
      "__________________________________________________________\n",
      "Removed Adjectives Data Set\n",
      "__________________________________________________________\n",
      "The averaged total accuracy across all splits is 0.6018756119212815\n",
      "\n",
      "__________________________________________________________\n",
      "Original Data Set\n",
      "__________________________________________________________\n",
      "The averaged total accuracy across all splits is 0.5994871611704446\n",
      "\n"
     ]
    }
   ],
   "source": [
    "average_accuracy_every_dataset(ada_50)"
   ]
  },
  {
   "cell_type": "markdown",
   "id": "b9d33e48",
   "metadata": {},
   "source": [
    "# (Unfinished) Exploring Kernels: comparing accuracy for different kernels."
   ]
  },
  {
   "cell_type": "markdown",
   "id": "eabc848a",
   "metadata": {},
   "source": [
    "Here we explore the kernels by comparing the total accuracy of the models for the smallest dataset Keywords. Note: C = 1 is used for all kernels."
   ]
  },
  {
   "cell_type": "markdown",
   "id": "087bc36b",
   "metadata": {},
   "source": [
    "-- rbf kernel --"
   ]
  },
  {
   "cell_type": "code",
   "execution_count": 27,
   "id": "08bb08b9",
   "metadata": {},
   "outputs": [],
   "source": [
    "svc_rbf = SVC(kernel='rbf', C=1)"
   ]
  },
  {
   "cell_type": "code",
   "execution_count": 28,
   "id": "be61dd58",
   "metadata": {},
   "outputs": [
    {
     "name": "stdout",
     "output_type": "stream",
     "text": [
      "The averaged total accuracy across all splits is 0.7372152384065068\n",
      "\n"
     ]
    }
   ],
   "source": [
    "average_total_accuracy_across_splits(keywords, svc_rbf)"
   ]
  },
  {
   "cell_type": "code",
   "execution_count": 33,
   "id": "892a7274",
   "metadata": {},
   "outputs": [
    {
     "ename": "KeyboardInterrupt",
     "evalue": "",
     "output_type": "error",
     "traceback": [
      "\u001b[1;31m---------------------------------------------------------------------------\u001b[0m",
      "\u001b[1;31mKeyboardInterrupt\u001b[0m                         Traceback (most recent call last)",
      "\u001b[1;32m~\\AppData\\Local\\Temp/ipykernel_19496/946818514.py\u001b[0m in \u001b[0;36m<module>\u001b[1;34m\u001b[0m\n\u001b[1;32m----> 1\u001b[1;33m \u001b[0maverage_total_accuracy_across_splits\u001b[0m\u001b[1;33m(\u001b[0m\u001b[0mtrimmed\u001b[0m\u001b[1;33m,\u001b[0m \u001b[0msvc_rbf\u001b[0m\u001b[1;33m)\u001b[0m\u001b[1;33m\u001b[0m\u001b[1;33m\u001b[0m\u001b[0m\n\u001b[0m",
      "\u001b[1;32m~\\AppData\\Local\\Temp/ipykernel_19496/1404997706.py\u001b[0m in \u001b[0;36maverage_total_accuracy_across_splits\u001b[1;34m(dataframe, model)\u001b[0m\n\u001b[0;32m     11\u001b[0m         \u001b[1;31m# fiting and predicting\u001b[0m\u001b[1;33m\u001b[0m\u001b[1;33m\u001b[0m\u001b[0m\n\u001b[0;32m     12\u001b[0m         \u001b[0mmodel\u001b[0m\u001b[1;33m.\u001b[0m\u001b[0mfit\u001b[0m\u001b[1;33m(\u001b[0m\u001b[0mX_train\u001b[0m\u001b[1;33m,\u001b[0m \u001b[0my_train\u001b[0m\u001b[1;33m)\u001b[0m\u001b[1;33m\u001b[0m\u001b[1;33m\u001b[0m\u001b[0m\n\u001b[1;32m---> 13\u001b[1;33m         \u001b[0mpred\u001b[0m \u001b[1;33m=\u001b[0m \u001b[0mmodel\u001b[0m\u001b[1;33m.\u001b[0m\u001b[0mpredict\u001b[0m\u001b[1;33m(\u001b[0m\u001b[0mX_holdout\u001b[0m\u001b[1;33m)\u001b[0m\u001b[1;33m\u001b[0m\u001b[1;33m\u001b[0m\u001b[0m\n\u001b[0m\u001b[0;32m     14\u001b[0m         \u001b[0mtotac\u001b[0m \u001b[1;33m=\u001b[0m \u001b[0mtotal_accuracy\u001b[0m\u001b[1;33m(\u001b[0m\u001b[0my_holdout\u001b[0m\u001b[1;33m,\u001b[0m \u001b[0mpred\u001b[0m\u001b[1;33m)\u001b[0m\u001b[1;33m\u001b[0m\u001b[1;33m\u001b[0m\u001b[0m\n\u001b[0;32m     15\u001b[0m         \u001b[0maccuracies\u001b[0m\u001b[1;33m.\u001b[0m\u001b[0mappend\u001b[0m\u001b[1;33m(\u001b[0m\u001b[0mtotac\u001b[0m\u001b[1;33m)\u001b[0m\u001b[1;33m\u001b[0m\u001b[1;33m\u001b[0m\u001b[0m\n",
      "\u001b[1;32mC:\\ProgramData\\Anaconda3\\lib\\site-packages\\sklearn\\svm\\_base.py\u001b[0m in \u001b[0;36mpredict\u001b[1;34m(self, X)\u001b[0m\n\u001b[0;32m    622\u001b[0m             \u001b[0my\u001b[0m \u001b[1;33m=\u001b[0m \u001b[0mnp\u001b[0m\u001b[1;33m.\u001b[0m\u001b[0margmax\u001b[0m\u001b[1;33m(\u001b[0m\u001b[0mself\u001b[0m\u001b[1;33m.\u001b[0m\u001b[0mdecision_function\u001b[0m\u001b[1;33m(\u001b[0m\u001b[0mX\u001b[0m\u001b[1;33m)\u001b[0m\u001b[1;33m,\u001b[0m \u001b[0maxis\u001b[0m\u001b[1;33m=\u001b[0m\u001b[1;36m1\u001b[0m\u001b[1;33m)\u001b[0m\u001b[1;33m\u001b[0m\u001b[1;33m\u001b[0m\u001b[0m\n\u001b[0;32m    623\u001b[0m         \u001b[1;32melse\u001b[0m\u001b[1;33m:\u001b[0m\u001b[1;33m\u001b[0m\u001b[1;33m\u001b[0m\u001b[0m\n\u001b[1;32m--> 624\u001b[1;33m             \u001b[0my\u001b[0m \u001b[1;33m=\u001b[0m \u001b[0msuper\u001b[0m\u001b[1;33m(\u001b[0m\u001b[1;33m)\u001b[0m\u001b[1;33m.\u001b[0m\u001b[0mpredict\u001b[0m\u001b[1;33m(\u001b[0m\u001b[0mX\u001b[0m\u001b[1;33m)\u001b[0m\u001b[1;33m\u001b[0m\u001b[1;33m\u001b[0m\u001b[0m\n\u001b[0m\u001b[0;32m    625\u001b[0m         \u001b[1;32mreturn\u001b[0m \u001b[0mself\u001b[0m\u001b[1;33m.\u001b[0m\u001b[0mclasses_\u001b[0m\u001b[1;33m.\u001b[0m\u001b[0mtake\u001b[0m\u001b[1;33m(\u001b[0m\u001b[0mnp\u001b[0m\u001b[1;33m.\u001b[0m\u001b[0masarray\u001b[0m\u001b[1;33m(\u001b[0m\u001b[0my\u001b[0m\u001b[1;33m,\u001b[0m \u001b[0mdtype\u001b[0m\u001b[1;33m=\u001b[0m\u001b[0mnp\u001b[0m\u001b[1;33m.\u001b[0m\u001b[0mintp\u001b[0m\u001b[1;33m)\u001b[0m\u001b[1;33m)\u001b[0m\u001b[1;33m\u001b[0m\u001b[1;33m\u001b[0m\u001b[0m\n\u001b[0;32m    626\u001b[0m \u001b[1;33m\u001b[0m\u001b[0m\n",
      "\u001b[1;32mC:\\ProgramData\\Anaconda3\\lib\\site-packages\\sklearn\\svm\\_base.py\u001b[0m in \u001b[0;36mpredict\u001b[1;34m(self, X)\u001b[0m\n\u001b[0;32m    342\u001b[0m         \u001b[0mX\u001b[0m \u001b[1;33m=\u001b[0m \u001b[0mself\u001b[0m\u001b[1;33m.\u001b[0m\u001b[0m_validate_for_predict\u001b[0m\u001b[1;33m(\u001b[0m\u001b[0mX\u001b[0m\u001b[1;33m)\u001b[0m\u001b[1;33m\u001b[0m\u001b[1;33m\u001b[0m\u001b[0m\n\u001b[0;32m    343\u001b[0m         \u001b[0mpredict\u001b[0m \u001b[1;33m=\u001b[0m \u001b[0mself\u001b[0m\u001b[1;33m.\u001b[0m\u001b[0m_sparse_predict\u001b[0m \u001b[1;32mif\u001b[0m \u001b[0mself\u001b[0m\u001b[1;33m.\u001b[0m\u001b[0m_sparse\u001b[0m \u001b[1;32melse\u001b[0m \u001b[0mself\u001b[0m\u001b[1;33m.\u001b[0m\u001b[0m_dense_predict\u001b[0m\u001b[1;33m\u001b[0m\u001b[1;33m\u001b[0m\u001b[0m\n\u001b[1;32m--> 344\u001b[1;33m         \u001b[1;32mreturn\u001b[0m \u001b[0mpredict\u001b[0m\u001b[1;33m(\u001b[0m\u001b[0mX\u001b[0m\u001b[1;33m)\u001b[0m\u001b[1;33m\u001b[0m\u001b[1;33m\u001b[0m\u001b[0m\n\u001b[0m\u001b[0;32m    345\u001b[0m \u001b[1;33m\u001b[0m\u001b[0m\n\u001b[0;32m    346\u001b[0m     \u001b[1;32mdef\u001b[0m \u001b[0m_dense_predict\u001b[0m\u001b[1;33m(\u001b[0m\u001b[0mself\u001b[0m\u001b[1;33m,\u001b[0m \u001b[0mX\u001b[0m\u001b[1;33m)\u001b[0m\u001b[1;33m:\u001b[0m\u001b[1;33m\u001b[0m\u001b[1;33m\u001b[0m\u001b[0m\n",
      "\u001b[1;32mC:\\ProgramData\\Anaconda3\\lib\\site-packages\\sklearn\\svm\\_base.py\u001b[0m in \u001b[0;36m_dense_predict\u001b[1;34m(self, X)\u001b[0m\n\u001b[0;32m    359\u001b[0m         \u001b[0msvm_type\u001b[0m \u001b[1;33m=\u001b[0m \u001b[0mLIBSVM_IMPL\u001b[0m\u001b[1;33m.\u001b[0m\u001b[0mindex\u001b[0m\u001b[1;33m(\u001b[0m\u001b[0mself\u001b[0m\u001b[1;33m.\u001b[0m\u001b[0m_impl\u001b[0m\u001b[1;33m)\u001b[0m\u001b[1;33m\u001b[0m\u001b[1;33m\u001b[0m\u001b[0m\n\u001b[0;32m    360\u001b[0m \u001b[1;33m\u001b[0m\u001b[0m\n\u001b[1;32m--> 361\u001b[1;33m         return libsvm.predict(\n\u001b[0m\u001b[0;32m    362\u001b[0m             \u001b[0mX\u001b[0m\u001b[1;33m,\u001b[0m \u001b[0mself\u001b[0m\u001b[1;33m.\u001b[0m\u001b[0msupport_\u001b[0m\u001b[1;33m,\u001b[0m \u001b[0mself\u001b[0m\u001b[1;33m.\u001b[0m\u001b[0msupport_vectors_\u001b[0m\u001b[1;33m,\u001b[0m \u001b[0mself\u001b[0m\u001b[1;33m.\u001b[0m\u001b[0m_n_support\u001b[0m\u001b[1;33m,\u001b[0m\u001b[1;33m\u001b[0m\u001b[1;33m\u001b[0m\u001b[0m\n\u001b[0;32m    363\u001b[0m             \u001b[0mself\u001b[0m\u001b[1;33m.\u001b[0m\u001b[0m_dual_coef_\u001b[0m\u001b[1;33m,\u001b[0m \u001b[0mself\u001b[0m\u001b[1;33m.\u001b[0m\u001b[0m_intercept_\u001b[0m\u001b[1;33m,\u001b[0m\u001b[1;33m\u001b[0m\u001b[1;33m\u001b[0m\u001b[0m\n",
      "\u001b[1;31mKeyboardInterrupt\u001b[0m: "
     ]
    }
   ],
   "source": [
    "average_total_accuracy_across_splits(trimmed, svc_rbf)"
   ]
  },
  {
   "cell_type": "markdown",
   "id": "3e772c62",
   "metadata": {},
   "source": [
    "-- sigmoid kernel --"
   ]
  },
  {
   "cell_type": "code",
   "execution_count": 29,
   "id": "f8649aa0",
   "metadata": {},
   "outputs": [],
   "source": [
    "svc_sig = SVC(kernel='sigmoid', C=1)"
   ]
  },
  {
   "cell_type": "code",
   "execution_count": 30,
   "id": "f95c3b74",
   "metadata": {},
   "outputs": [
    {
     "name": "stdout",
     "output_type": "stream",
     "text": [
      "The averaged total accuracy across all splits is 0.606426344946674\n",
      "\n"
     ]
    }
   ],
   "source": [
    "average_total_accuracy_across_splits(keywords, svc_sig)"
   ]
  },
  {
   "cell_type": "markdown",
   "id": "d2b5a5ab",
   "metadata": {},
   "source": [
    "-- polynomial kernel -- \n",
    "\n",
    "To do: look at a few different degrees for the polynomial."
   ]
  },
  {
   "cell_type": "code",
   "execution_count": null,
   "id": "69e0d71c",
   "metadata": {},
   "outputs": [],
   "source": [
    "for degree in [2, 3, 4]:\n",
    "    print(\"----------------------------------------------------------\")\n",
    "    print(\"__________________________________________________________\")\n",
    "    print(\"Degree is\", degree)\n",
    "    print(\"__________________________________________________________\")\n",
    "    print(\"----------------------------------------------------------\")\n",
    "    svc_poly = SVC(kernel='poly', degree=degree, C=1)\n",
    "    average_total_accuracy_across_splits(keywords, svc_poly)"
   ]
  },
  {
   "cell_type": "code",
   "execution_count": null,
   "id": "11271b7a",
   "metadata": {},
   "outputs": [],
   "source": []
  }
 ],
 "metadata": {
  "kernelspec": {
   "display_name": "Python 3 (ipykernel)",
   "language": "python",
   "name": "python3"
  },
  "language_info": {
   "codemirror_mode": {
    "name": "ipython",
    "version": 3
   },
   "file_extension": ".py",
   "mimetype": "text/x-python",
   "name": "python",
   "nbconvert_exporter": "python",
   "pygments_lexer": "ipython3",
   "version": "3.9.7"
  }
 },
 "nbformat": 4,
 "nbformat_minor": 5
}
