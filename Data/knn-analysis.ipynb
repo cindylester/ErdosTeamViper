{
 "cells": [
  {
   "cell_type": "markdown",
   "metadata": {},
   "source": [
    "# $k$ nearest neighbors approach"
   ]
  },
  {
   "cell_type": "markdown",
   "metadata": {},
   "source": [
    "We try KNN classifier for several parameters $k$ using two different metrics: 'euclidean' and 'jaccard' for two different dataframes: \"key_words_data\" (39774 x 558) and \"removed_adj_data\" (39774 x 5642)."
   ]
  },
  {
   "cell_type": "code",
   "execution_count": 1,
   "metadata": {},
   "outputs": [],
   "source": [
    "import numpy as np\n",
    "import pandas as pd\n",
    "import matplotlib.pyplot as plt\n",
    "from sklearn.neighbors import KNeighborsClassifier\n",
    "from sklearn.model_selection import train_test_split"
   ]
  },
  {
   "cell_type": "code",
   "execution_count": 2,
   "metadata": {},
   "outputs": [],
   "source": [
    "# Matt Osborne's function for computing accuracy\n",
    "def accuracy(true, predicted): \n",
    "    return np.sum(true==predicted)/len(predicted)"
   ]
  },
  {
   "cell_type": "code",
   "execution_count": 13,
   "metadata": {
    "scrolled": false
   },
   "outputs": [],
   "source": [
    "# a wrapper to try different values of k on different databases and metrics\n",
    "def knn_tester(data_train, data_test, k_range, metric):\n",
    "    ''' Input:\n",
    "            data_train = a dataframe for training\n",
    "            data_test = a dataframe for testing\n",
    "            k_range = a range of k-values to try\n",
    "            metric = a string with value of metric, e.g. 'jaccard' or 'euclidean'\n",
    "        Assumptions:\n",
    "            'cuisine' column has index 1\n",
    "            food ingredients columns have indices [2:]\n",
    "        Output:\n",
    "            an array of floats, representing accuracies for the range k_range\n",
    "        Side effect:\n",
    "            plots the graph of accuracies against the range k_range\n",
    "    '''\n",
    "    klist, acclist = [],[]\n",
    "    for k in k_range:\n",
    "        print(\"trying\",k,\"neighbor classifier:\",end=\" \")\n",
    "        knn = KNeighborsClassifier(n_neighbors = k, metric = metric)\n",
    "        \n",
    "        X = data_train.iloc[:,2:].values # values for training\n",
    "        y = data_train.iloc[:,1].values # cuisine column\n",
    "        z = data_test.iloc[:,2:].values # values for testing\n",
    "        \n",
    "        knn.fit(X,y)\n",
    "        predictions = knn.predict(z)\n",
    "        score = accuracy(data_test.cuisine.values,predictions)\n",
    "        print(\"test set accuracy =\", score)\n",
    "        klist.append(k)\n",
    "        acclist.append(score)\n",
    "        \n",
    "    fig, ax = plt.subplots()\n",
    "    ax.set_xlabel('number of neighbors k')\n",
    "    ax.set_ylabel('accuracy')\n",
    "    ax.plot(klist,acclist,\"ro\")\n",
    "    return np.array(acclist[:])"
   ]
  },
  {
   "cell_type": "markdown",
   "metadata": {},
   "source": [
    "### analyzing key_words_data dataframe:"
   ]
  },
  {
   "cell_type": "markdown",
   "metadata": {},
   "source": [
    "Now we are going to analyze a shortened dataframe \"key_words_data\"."
   ]
  },
  {
   "cell_type": "code",
   "execution_count": 6,
   "metadata": {},
   "outputs": [],
   "source": [
    "kwd = pd.read_csv('key_words_data.csv')"
   ]
  },
  {
   "cell_type": "code",
   "execution_count": 7,
   "metadata": {},
   "outputs": [
    {
     "data": {
      "text/plain": [
       "(39774, 558)"
      ]
     },
     "execution_count": 7,
     "metadata": {},
     "output_type": "execute_result"
    }
   ],
   "source": [
    "kwd.shape"
   ]
  },
  {
   "cell_type": "code",
   "execution_count": 8,
   "metadata": {},
   "outputs": [
    {
     "data": {
      "text/html": [
       "<div>\n",
       "<style scoped>\n",
       "    .dataframe tbody tr th:only-of-type {\n",
       "        vertical-align: middle;\n",
       "    }\n",
       "\n",
       "    .dataframe tbody tr th {\n",
       "        vertical-align: top;\n",
       "    }\n",
       "\n",
       "    .dataframe thead th {\n",
       "        text-align: right;\n",
       "    }\n",
       "</style>\n",
       "<table border=\"1\" class=\"dataframe\">\n",
       "  <thead>\n",
       "    <tr style=\"text-align: right;\">\n",
       "      <th></th>\n",
       "      <th>id</th>\n",
       "      <th>cuisine</th>\n",
       "      <th>adobo sauce</th>\n",
       "      <th>alfredo</th>\n",
       "      <th>barbecue sauce</th>\n",
       "      <th>chutney</th>\n",
       "      <th>enchilada sauce</th>\n",
       "      <th>kecap manis</th>\n",
       "      <th>ketchup</th>\n",
       "      <th>hot sauce</th>\n",
       "      <th>...</th>\n",
       "      <th>risotto</th>\n",
       "      <th>focaccia</th>\n",
       "      <th>prosecco</th>\n",
       "      <th>chianti</th>\n",
       "      <th>carnita</th>\n",
       "      <th>wafer</th>\n",
       "      <th>ravva</th>\n",
       "      <th>ouzo</th>\n",
       "      <th>lumpia</th>\n",
       "      <th>granola</th>\n",
       "    </tr>\n",
       "  </thead>\n",
       "  <tbody>\n",
       "    <tr>\n",
       "      <td>0</td>\n",
       "      <td>10259</td>\n",
       "      <td>greek</td>\n",
       "      <td>0</td>\n",
       "      <td>0</td>\n",
       "      <td>0</td>\n",
       "      <td>0</td>\n",
       "      <td>0</td>\n",
       "      <td>0</td>\n",
       "      <td>0</td>\n",
       "      <td>0</td>\n",
       "      <td>...</td>\n",
       "      <td>0</td>\n",
       "      <td>0</td>\n",
       "      <td>0</td>\n",
       "      <td>0</td>\n",
       "      <td>0</td>\n",
       "      <td>0</td>\n",
       "      <td>0</td>\n",
       "      <td>0</td>\n",
       "      <td>0</td>\n",
       "      <td>0</td>\n",
       "    </tr>\n",
       "    <tr>\n",
       "      <td>1</td>\n",
       "      <td>25693</td>\n",
       "      <td>southern_us</td>\n",
       "      <td>0</td>\n",
       "      <td>0</td>\n",
       "      <td>0</td>\n",
       "      <td>0</td>\n",
       "      <td>0</td>\n",
       "      <td>0</td>\n",
       "      <td>0</td>\n",
       "      <td>0</td>\n",
       "      <td>...</td>\n",
       "      <td>0</td>\n",
       "      <td>0</td>\n",
       "      <td>0</td>\n",
       "      <td>0</td>\n",
       "      <td>0</td>\n",
       "      <td>0</td>\n",
       "      <td>0</td>\n",
       "      <td>0</td>\n",
       "      <td>0</td>\n",
       "      <td>0</td>\n",
       "    </tr>\n",
       "    <tr>\n",
       "      <td>2</td>\n",
       "      <td>20130</td>\n",
       "      <td>filipino</td>\n",
       "      <td>0</td>\n",
       "      <td>0</td>\n",
       "      <td>0</td>\n",
       "      <td>0</td>\n",
       "      <td>0</td>\n",
       "      <td>0</td>\n",
       "      <td>0</td>\n",
       "      <td>0</td>\n",
       "      <td>...</td>\n",
       "      <td>0</td>\n",
       "      <td>0</td>\n",
       "      <td>0</td>\n",
       "      <td>0</td>\n",
       "      <td>0</td>\n",
       "      <td>0</td>\n",
       "      <td>0</td>\n",
       "      <td>0</td>\n",
       "      <td>0</td>\n",
       "      <td>0</td>\n",
       "    </tr>\n",
       "    <tr>\n",
       "      <td>3</td>\n",
       "      <td>22213</td>\n",
       "      <td>indian</td>\n",
       "      <td>0</td>\n",
       "      <td>0</td>\n",
       "      <td>0</td>\n",
       "      <td>0</td>\n",
       "      <td>0</td>\n",
       "      <td>0</td>\n",
       "      <td>0</td>\n",
       "      <td>0</td>\n",
       "      <td>...</td>\n",
       "      <td>0</td>\n",
       "      <td>0</td>\n",
       "      <td>0</td>\n",
       "      <td>0</td>\n",
       "      <td>0</td>\n",
       "      <td>0</td>\n",
       "      <td>0</td>\n",
       "      <td>0</td>\n",
       "      <td>0</td>\n",
       "      <td>0</td>\n",
       "    </tr>\n",
       "    <tr>\n",
       "      <td>4</td>\n",
       "      <td>13162</td>\n",
       "      <td>indian</td>\n",
       "      <td>0</td>\n",
       "      <td>0</td>\n",
       "      <td>0</td>\n",
       "      <td>0</td>\n",
       "      <td>0</td>\n",
       "      <td>0</td>\n",
       "      <td>0</td>\n",
       "      <td>0</td>\n",
       "      <td>...</td>\n",
       "      <td>0</td>\n",
       "      <td>0</td>\n",
       "      <td>0</td>\n",
       "      <td>0</td>\n",
       "      <td>0</td>\n",
       "      <td>0</td>\n",
       "      <td>0</td>\n",
       "      <td>0</td>\n",
       "      <td>0</td>\n",
       "      <td>0</td>\n",
       "    </tr>\n",
       "  </tbody>\n",
       "</table>\n",
       "<p>5 rows × 558 columns</p>\n",
       "</div>"
      ],
      "text/plain": [
       "      id      cuisine  adobo sauce  alfredo  barbecue sauce  chutney  \\\n",
       "0  10259        greek            0        0               0        0   \n",
       "1  25693  southern_us            0        0               0        0   \n",
       "2  20130     filipino            0        0               0        0   \n",
       "3  22213       indian            0        0               0        0   \n",
       "4  13162       indian            0        0               0        0   \n",
       "\n",
       "   enchilada sauce  kecap manis  ketchup  hot sauce  ...  risotto  focaccia  \\\n",
       "0                0            0        0          0  ...        0         0   \n",
       "1                0            0        0          0  ...        0         0   \n",
       "2                0            0        0          0  ...        0         0   \n",
       "3                0            0        0          0  ...        0         0   \n",
       "4                0            0        0          0  ...        0         0   \n",
       "\n",
       "   prosecco  chianti  carnita  wafer  ravva  ouzo  lumpia  granola  \n",
       "0         0        0        0      0      0     0       0        0  \n",
       "1         0        0        0      0      0     0       0        0  \n",
       "2         0        0        0      0      0     0       0        0  \n",
       "3         0        0        0      0      0     0       0        0  \n",
       "4         0        0        0      0      0     0       0        0  \n",
       "\n",
       "[5 rows x 558 columns]"
      ]
     },
     "execution_count": 8,
     "metadata": {},
     "output_type": "execute_result"
    }
   ],
   "source": [
    "kwd.head()"
   ]
  },
  {
   "cell_type": "code",
   "execution_count": 11,
   "metadata": {},
   "outputs": [],
   "source": [
    "# preparing training and testing samples\n",
    "kwd_train, kwd_test = train_test_split(kwd, \n",
    "                                       random_state=429,\n",
    "                                       shuffle = True,\n",
    "                                       test_size = 0.2,\n",
    "                                       stratify = kwd.cuisine)"
   ]
  },
  {
   "cell_type": "markdown",
   "metadata": {},
   "source": [
    "#### testing with euclidean metric:"
   ]
  },
  {
   "cell_type": "code",
   "execution_count": 14,
   "metadata": {},
   "outputs": [
    {
     "name": "stdout",
     "output_type": "stream",
     "text": [
      "trying 1 neighbor classifier: test set accuracy = 0.586046511627907\n",
      "trying 2 neighbor classifier: test set accuracy = 0.556002514142049\n",
      "trying 3 neighbor classifier: test set accuracy = 0.5909490886235073\n",
      "trying 4 neighbor classifier: test set accuracy = 0.6085480829666876\n",
      "trying 5 neighbor classifier: test set accuracy = 0.6155876807039597\n",
      "trying 6 neighbor classifier: test set accuracy = 0.623507228158391\n",
      "trying 7 neighbor classifier: test set accuracy = 0.6271527341294784\n",
      "trying 8 neighbor classifier: test set accuracy = 0.6309239472030169\n",
      "trying 9 neighbor classifier: test set accuracy = 0.632683846637335\n",
      "trying 10 neighbor classifier: test set accuracy = 0.6306725329981144\n",
      "trying 11 neighbor classifier: test set accuracy = 0.6328095537397863\n",
      "trying 12 neighbor classifier: test set accuracy = 0.6350722815839095\n",
      "trying 13 neighbor classifier: test set accuracy = 0.6364550597108737\n",
      "trying 14 neighbor classifier: test set accuracy = 0.6349465744814582\n",
      "trying 15 neighbor classifier: test set accuracy = 0.6392206159648021\n",
      "trying 16 neighbor classifier: test set accuracy = 0.6373350094280327\n",
      "trying 17 neighbor classifier: test set accuracy = 0.636580766813325\n",
      "trying 18 neighbor classifier: test set accuracy = 0.6362036455059711\n",
      "trying 19 neighbor classifier: test set accuracy = 0.6348208673790069\n",
      "trying 20 neighbor classifier: test set accuracy = 0.6345694531741043\n",
      "trying 21 neighbor classifier: test set accuracy = 0.633563796354494\n",
      "trying 22 neighbor classifier: test set accuracy = 0.6316781898177247\n",
      "trying 23 neighbor classifier: test set accuracy = 0.6309239472030169\n",
      "trying 24 neighbor classifier: test set accuracy = 0.6319296040226273\n",
      "trying 25 neighbor classifier: test set accuracy = 0.6292897548711502\n"
     ]
    },
    {
     "data": {
      "image/png": "[encoded data removed]",
      "text/plain": [
       "<Figure size 432x288 with 1 Axes>"
      ]
     },
     "metadata": {
      "needs_background": "light"
     },
     "output_type": "display_data"
    }
   ],
   "source": [
    "# COMPUTATION TIME: 7 min for 25 iterations (15 sec/iteration)\n",
    "kwd_acc_euclidean = knn_tester(kwd_train, kwd_test, range(1,26), 'euclidean')"
   ]
  },
  {
   "cell_type": "code",
   "execution_count": 16,
   "metadata": {
    "scrolled": false
   },
   "outputs": [
    {
     "name": "stdout",
     "output_type": "stream",
     "text": [
      "maximum accuracy = 0.6392206159648021 at k = 15\n"
     ]
    }
   ],
   "source": [
    "print(\"maximum accuracy =\", kwd_acc_euclidean.max(), \"at k =\", kwd_acc_euclidean.argmax()+1)"
   ]
  },
  {
   "cell_type": "markdown",
   "metadata": {},
   "source": [
    "#### testing with jaccard metric:"
   ]
  },
  {
   "cell_type": "code",
   "execution_count": 20,
   "metadata": {},
   "outputs": [],
   "source": [
    "# converting data to bool for jaccard metric\n",
    "kwd[kwd.columns[2:]] = kwd[kwd.columns[2:]].replace([0,1],[False,True])"
   ]
  },
  {
   "cell_type": "code",
   "execution_count": 21,
   "metadata": {},
   "outputs": [
    {
     "data": {
      "text/html": [
       "<div>\n",
       "<style scoped>\n",
       "    .dataframe tbody tr th:only-of-type {\n",
       "        vertical-align: middle;\n",
       "    }\n",
       "\n",
       "    .dataframe tbody tr th {\n",
       "        vertical-align: top;\n",
       "    }\n",
       "\n",
       "    .dataframe thead th {\n",
       "        text-align: right;\n",
       "    }\n",
       "</style>\n",
       "<table border=\"1\" class=\"dataframe\">\n",
       "  <thead>\n",
       "    <tr style=\"text-align: right;\">\n",
       "      <th></th>\n",
       "      <th>id</th>\n",
       "      <th>cuisine</th>\n",
       "      <th>adobo sauce</th>\n",
       "      <th>alfredo</th>\n",
       "      <th>barbecue sauce</th>\n",
       "      <th>chutney</th>\n",
       "      <th>enchilada sauce</th>\n",
       "      <th>kecap manis</th>\n",
       "      <th>ketchup</th>\n",
       "      <th>hot sauce</th>\n",
       "      <th>...</th>\n",
       "      <th>risotto</th>\n",
       "      <th>focaccia</th>\n",
       "      <th>prosecco</th>\n",
       "      <th>chianti</th>\n",
       "      <th>carnita</th>\n",
       "      <th>wafer</th>\n",
       "      <th>ravva</th>\n",
       "      <th>ouzo</th>\n",
       "      <th>lumpia</th>\n",
       "      <th>granola</th>\n",
       "    </tr>\n",
       "  </thead>\n",
       "  <tbody>\n",
       "    <tr>\n",
       "      <td>0</td>\n",
       "      <td>10259</td>\n",
       "      <td>greek</td>\n",
       "      <td>False</td>\n",
       "      <td>False</td>\n",
       "      <td>False</td>\n",
       "      <td>False</td>\n",
       "      <td>False</td>\n",
       "      <td>False</td>\n",
       "      <td>False</td>\n",
       "      <td>False</td>\n",
       "      <td>...</td>\n",
       "      <td>False</td>\n",
       "      <td>False</td>\n",
       "      <td>False</td>\n",
       "      <td>False</td>\n",
       "      <td>False</td>\n",
       "      <td>False</td>\n",
       "      <td>False</td>\n",
       "      <td>False</td>\n",
       "      <td>False</td>\n",
       "      <td>False</td>\n",
       "    </tr>\n",
       "    <tr>\n",
       "      <td>1</td>\n",
       "      <td>25693</td>\n",
       "      <td>southern_us</td>\n",
       "      <td>False</td>\n",
       "      <td>False</td>\n",
       "      <td>False</td>\n",
       "      <td>False</td>\n",
       "      <td>False</td>\n",
       "      <td>False</td>\n",
       "      <td>False</td>\n",
       "      <td>False</td>\n",
       "      <td>...</td>\n",
       "      <td>False</td>\n",
       "      <td>False</td>\n",
       "      <td>False</td>\n",
       "      <td>False</td>\n",
       "      <td>False</td>\n",
       "      <td>False</td>\n",
       "      <td>False</td>\n",
       "      <td>False</td>\n",
       "      <td>False</td>\n",
       "      <td>False</td>\n",
       "    </tr>\n",
       "    <tr>\n",
       "      <td>2</td>\n",
       "      <td>20130</td>\n",
       "      <td>filipino</td>\n",
       "      <td>False</td>\n",
       "      <td>False</td>\n",
       "      <td>False</td>\n",
       "      <td>False</td>\n",
       "      <td>False</td>\n",
       "      <td>False</td>\n",
       "      <td>False</td>\n",
       "      <td>False</td>\n",
       "      <td>...</td>\n",
       "      <td>False</td>\n",
       "      <td>False</td>\n",
       "      <td>False</td>\n",
       "      <td>False</td>\n",
       "      <td>False</td>\n",
       "      <td>False</td>\n",
       "      <td>False</td>\n",
       "      <td>False</td>\n",
       "      <td>False</td>\n",
       "      <td>False</td>\n",
       "    </tr>\n",
       "    <tr>\n",
       "      <td>3</td>\n",
       "      <td>22213</td>\n",
       "      <td>indian</td>\n",
       "      <td>False</td>\n",
       "      <td>False</td>\n",
       "      <td>False</td>\n",
       "      <td>False</td>\n",
       "      <td>False</td>\n",
       "      <td>False</td>\n",
       "      <td>False</td>\n",
       "      <td>False</td>\n",
       "      <td>...</td>\n",
       "      <td>False</td>\n",
       "      <td>False</td>\n",
       "      <td>False</td>\n",
       "      <td>False</td>\n",
       "      <td>False</td>\n",
       "      <td>False</td>\n",
       "      <td>False</td>\n",
       "      <td>False</td>\n",
       "      <td>False</td>\n",
       "      <td>False</td>\n",
       "    </tr>\n",
       "    <tr>\n",
       "      <td>4</td>\n",
       "      <td>13162</td>\n",
       "      <td>indian</td>\n",
       "      <td>False</td>\n",
       "      <td>False</td>\n",
       "      <td>False</td>\n",
       "      <td>False</td>\n",
       "      <td>False</td>\n",
       "      <td>False</td>\n",
       "      <td>False</td>\n",
       "      <td>False</td>\n",
       "      <td>...</td>\n",
       "      <td>False</td>\n",
       "      <td>False</td>\n",
       "      <td>False</td>\n",
       "      <td>False</td>\n",
       "      <td>False</td>\n",
       "      <td>False</td>\n",
       "      <td>False</td>\n",
       "      <td>False</td>\n",
       "      <td>False</td>\n",
       "      <td>False</td>\n",
       "    </tr>\n",
       "  </tbody>\n",
       "</table>\n",
       "<p>5 rows × 558 columns</p>\n",
       "</div>"
      ],
      "text/plain": [
       "      id      cuisine  adobo sauce  alfredo  barbecue sauce  chutney  \\\n",
       "0  10259        greek        False    False           False    False   \n",
       "1  25693  southern_us        False    False           False    False   \n",
       "2  20130     filipino        False    False           False    False   \n",
       "3  22213       indian        False    False           False    False   \n",
       "4  13162       indian        False    False           False    False   \n",
       "\n",
       "   enchilada sauce  kecap manis  ketchup  hot sauce  ...  risotto  focaccia  \\\n",
       "0            False        False    False      False  ...    False     False   \n",
       "1            False        False    False      False  ...    False     False   \n",
       "2            False        False    False      False  ...    False     False   \n",
       "3            False        False    False      False  ...    False     False   \n",
       "4            False        False    False      False  ...    False     False   \n",
       "\n",
       "   prosecco  chianti  carnita  wafer  ravva   ouzo  lumpia  granola  \n",
       "0     False    False    False  False  False  False   False    False  \n",
       "1     False    False    False  False  False  False   False    False  \n",
       "2     False    False    False  False  False  False   False    False  \n",
       "3     False    False    False  False  False  False   False    False  \n",
       "4     False    False    False  False  False  False   False    False  \n",
       "\n",
       "[5 rows x 558 columns]"
      ]
     },
     "execution_count": 21,
     "metadata": {},
     "output_type": "execute_result"
    }
   ],
   "source": [
    "kwd.head()"
   ]
  },
  {
   "cell_type": "code",
   "execution_count": 24,
   "metadata": {},
   "outputs": [],
   "source": [
    "# same samples as before\n",
    "kwd_train, kwd_test = train_test_split(kwd, \n",
    "                                       random_state=429,\n",
    "                                       shuffle = True,\n",
    "                                       test_size = 0.2,\n",
    "                                       stratify = kwd.cuisine)"
   ]
  },
  {
   "cell_type": "code",
   "execution_count": 26,
   "metadata": {},
   "outputs": [
    {
     "name": "stdout",
     "output_type": "stream",
     "text": [
      "trying 1 neighbor classifier: test set accuracy = 0.6384663733500943\n",
      "trying 2 neighbor classifier: test set accuracy = 0.612193588937775\n",
      "trying 3 neighbor classifier: test set accuracy = 0.6490257699560025\n",
      "trying 4 neighbor classifier: test set accuracy = 0.6667504714016342\n",
      "trying 5 neighbor classifier: test set accuracy = 0.6742928975487115\n",
      "trying 6 neighbor classifier: test set accuracy = 0.678441231929604\n",
      "trying 7 neighbor classifier: test set accuracy = 0.683218101822753\n",
      "trying 8 neighbor classifier: test set accuracy = 0.6853551225644249\n",
      "trying 9 neighbor classifier: test set accuracy = 0.6856065367693275\n",
      "trying 10 neighbor classifier: test set accuracy = 0.6839723444374607\n",
      "trying 11 neighbor classifier: test set accuracy = 0.6862350722815839\n",
      "trying 12 neighbor classifier: test set accuracy = 0.6866121935889378\n",
      "trying 13 neighbor classifier: test set accuracy = 0.6862350722815839\n",
      "trying 14 neighbor classifier: test set accuracy = 0.6867379006913891\n",
      "trying 15 neighbor classifier: test set accuracy = 0.6853551225644249\n",
      "trying 16 neighbor classifier: test set accuracy = 0.6866121935889378\n",
      "trying 17 neighbor classifier: test set accuracy = 0.6861093651791326\n",
      "trying 18 neighbor classifier: test set accuracy = 0.6856065367693275\n",
      "trying 19 neighbor classifier: test set accuracy = 0.6856065367693275\n",
      "trying 20 neighbor classifier: test set accuracy = 0.6844751728472659\n",
      "trying 21 neighbor classifier: test set accuracy = 0.6825895663104965\n",
      "trying 22 neighbor classifier: test set accuracy = 0.6827152734129478\n",
      "trying 23 neighbor classifier: test set accuracy = 0.6830923947203017\n",
      "trying 24 neighbor classifier: test set accuracy = 0.6807039597737272\n",
      "trying 25 neighbor classifier: test set accuracy = 0.6812067881835324\n"
     ]
    },
    {
     "data": {
      "image/png": "[encoded data removed]",
      "text/plain": [
       "<Figure size 432x288 with 1 Axes>"
      ]
     },
     "metadata": {
      "needs_background": "light"
     },
     "output_type": "display_data"
    }
   ],
   "source": [
    "# COMPUTATION TIME: 1 hr 30 min for 25 iterations (3 min 40 sec per iteration)\n",
    "kwd_acc_jaccard = knn_tester(kwd_train, kwd_test, range(1,26), 'jaccard')"
   ]
  },
  {
   "cell_type": "code",
   "execution_count": 27,
   "metadata": {},
   "outputs": [
    {
     "name": "stdout",
     "output_type": "stream",
     "text": [
      "maximum accuracy = 0.6867379006913891 at k = 14\n"
     ]
    }
   ],
   "source": [
    "print(\"maximum accuracy =\", kwd_acc_jaccard.max(), \"at k =\", kwd_acc_jaccard.argmax()+1)"
   ]
  },
  {
   "cell_type": "markdown",
   "metadata": {},
   "source": [
    "#### Conclusion 1: "
   ]
  },
  {
   "cell_type": "markdown",
   "metadata": {},
   "source": [
    "On \"key_words_data\" dataframe the jaccard metric gives about 5% better accuracy over the euclidean (0.686738 vs 0.639221), while being reasonably fast. For both metrics the values of $k$ level off at about $k=9$, and after that change insignificantly."
   ]
  },
  {
   "cell_type": "markdown",
   "metadata": {},
   "source": [
    "### analyzing removed_adj_data dataframe:"
   ]
  },
  {
   "cell_type": "code",
   "execution_count": 28,
   "metadata": {},
   "outputs": [],
   "source": [
    "rad = pd.read_csv('removed_adj_data.csv')"
   ]
  },
  {
   "cell_type": "code",
   "execution_count": 29,
   "metadata": {},
   "outputs": [
    {
     "data": {
      "text/plain": [
       "(39774, 5642)"
      ]
     },
     "execution_count": 29,
     "metadata": {},
     "output_type": "execute_result"
    }
   ],
   "source": [
    "rad.shape"
   ]
  },
  {
   "cell_type": "code",
   "execution_count": 30,
   "metadata": {},
   "outputs": [
    {
     "data": {
      "text/html": [
       "<div>\n",
       "<style scoped>\n",
       "    .dataframe tbody tr th:only-of-type {\n",
       "        vertical-align: middle;\n",
       "    }\n",
       "\n",
       "    .dataframe tbody tr th {\n",
       "        vertical-align: top;\n",
       "    }\n",
       "\n",
       "    .dataframe thead th {\n",
       "        text-align: right;\n",
       "    }\n",
       "</style>\n",
       "<table border=\"1\" class=\"dataframe\">\n",
       "  <thead>\n",
       "    <tr style=\"text-align: right;\">\n",
       "      <th></th>\n",
       "      <th>id</th>\n",
       "      <th>cuisine</th>\n",
       "      <th>salt</th>\n",
       "      <th>garlic</th>\n",
       "      <th>onions</th>\n",
       "      <th>olive oil</th>\n",
       "      <th>butter</th>\n",
       "      <th>water</th>\n",
       "      <th>black pepper</th>\n",
       "      <th>garlic cloves</th>\n",
       "      <th>...</th>\n",
       "      <th>vegetable-filled ravioli</th>\n",
       "      <th>fiber one</th>\n",
       "      <th>blackpepper</th>\n",
       "      <th>fettuccini</th>\n",
       "      <th>chicharron</th>\n",
       "      <th>hawaiian salt</th>\n",
       "      <th>cheesi doubl cheddar sauc</th>\n",
       "      <th>orange flavored brandy</th>\n",
       "      <th>dasheen</th>\n",
       "      <th>cheese crackers</th>\n",
       "    </tr>\n",
       "  </thead>\n",
       "  <tbody>\n",
       "    <tr>\n",
       "      <td>0</td>\n",
       "      <td>10259</td>\n",
       "      <td>greek</td>\n",
       "      <td>0</td>\n",
       "      <td>1</td>\n",
       "      <td>0</td>\n",
       "      <td>0</td>\n",
       "      <td>0</td>\n",
       "      <td>0</td>\n",
       "      <td>0</td>\n",
       "      <td>0</td>\n",
       "      <td>...</td>\n",
       "      <td>0</td>\n",
       "      <td>0</td>\n",
       "      <td>0</td>\n",
       "      <td>0</td>\n",
       "      <td>0</td>\n",
       "      <td>0</td>\n",
       "      <td>0</td>\n",
       "      <td>0</td>\n",
       "      <td>0</td>\n",
       "      <td>0</td>\n",
       "    </tr>\n",
       "    <tr>\n",
       "      <td>1</td>\n",
       "      <td>25693</td>\n",
       "      <td>southern_us</td>\n",
       "      <td>1</td>\n",
       "      <td>0</td>\n",
       "      <td>0</td>\n",
       "      <td>0</td>\n",
       "      <td>0</td>\n",
       "      <td>0</td>\n",
       "      <td>1</td>\n",
       "      <td>0</td>\n",
       "      <td>...</td>\n",
       "      <td>0</td>\n",
       "      <td>0</td>\n",
       "      <td>0</td>\n",
       "      <td>0</td>\n",
       "      <td>0</td>\n",
       "      <td>0</td>\n",
       "      <td>0</td>\n",
       "      <td>0</td>\n",
       "      <td>0</td>\n",
       "      <td>0</td>\n",
       "    </tr>\n",
       "    <tr>\n",
       "      <td>2</td>\n",
       "      <td>20130</td>\n",
       "      <td>filipino</td>\n",
       "      <td>1</td>\n",
       "      <td>0</td>\n",
       "      <td>0</td>\n",
       "      <td>0</td>\n",
       "      <td>1</td>\n",
       "      <td>0</td>\n",
       "      <td>0</td>\n",
       "      <td>0</td>\n",
       "      <td>...</td>\n",
       "      <td>0</td>\n",
       "      <td>0</td>\n",
       "      <td>0</td>\n",
       "      <td>0</td>\n",
       "      <td>0</td>\n",
       "      <td>0</td>\n",
       "      <td>0</td>\n",
       "      <td>0</td>\n",
       "      <td>0</td>\n",
       "      <td>0</td>\n",
       "    </tr>\n",
       "    <tr>\n",
       "      <td>3</td>\n",
       "      <td>22213</td>\n",
       "      <td>indian</td>\n",
       "      <td>1</td>\n",
       "      <td>0</td>\n",
       "      <td>0</td>\n",
       "      <td>0</td>\n",
       "      <td>0</td>\n",
       "      <td>1</td>\n",
       "      <td>0</td>\n",
       "      <td>0</td>\n",
       "      <td>...</td>\n",
       "      <td>0</td>\n",
       "      <td>0</td>\n",
       "      <td>0</td>\n",
       "      <td>0</td>\n",
       "      <td>0</td>\n",
       "      <td>0</td>\n",
       "      <td>0</td>\n",
       "      <td>0</td>\n",
       "      <td>0</td>\n",
       "      <td>0</td>\n",
       "    </tr>\n",
       "    <tr>\n",
       "      <td>4</td>\n",
       "      <td>13162</td>\n",
       "      <td>indian</td>\n",
       "      <td>1</td>\n",
       "      <td>0</td>\n",
       "      <td>1</td>\n",
       "      <td>0</td>\n",
       "      <td>1</td>\n",
       "      <td>1</td>\n",
       "      <td>1</td>\n",
       "      <td>0</td>\n",
       "      <td>...</td>\n",
       "      <td>0</td>\n",
       "      <td>0</td>\n",
       "      <td>0</td>\n",
       "      <td>0</td>\n",
       "      <td>0</td>\n",
       "      <td>0</td>\n",
       "      <td>0</td>\n",
       "      <td>0</td>\n",
       "      <td>0</td>\n",
       "      <td>0</td>\n",
       "    </tr>\n",
       "  </tbody>\n",
       "</table>\n",
       "<p>5 rows × 5642 columns</p>\n",
       "</div>"
      ],
      "text/plain": [
       "      id      cuisine  salt  garlic  onions  olive oil  butter  water  \\\n",
       "0  10259        greek     0       1       0          0       0      0   \n",
       "1  25693  southern_us     1       0       0          0       0      0   \n",
       "2  20130     filipino     1       0       0          0       1      0   \n",
       "3  22213       indian     1       0       0          0       0      1   \n",
       "4  13162       indian     1       0       1          0       1      1   \n",
       "\n",
       "   black pepper  garlic cloves  ...  vegetable-filled ravioli  fiber one  \\\n",
       "0             0              0  ...                         0          0   \n",
       "1             1              0  ...                         0          0   \n",
       "2             0              0  ...                         0          0   \n",
       "3             0              0  ...                         0          0   \n",
       "4             1              0  ...                         0          0   \n",
       "\n",
       "   blackpepper  fettuccini  chicharron  hawaiian salt  \\\n",
       "0            0           0           0              0   \n",
       "1            0           0           0              0   \n",
       "2            0           0           0              0   \n",
       "3            0           0           0              0   \n",
       "4            0           0           0              0   \n",
       "\n",
       "   cheesi doubl cheddar sauc  orange flavored brandy  dasheen  cheese crackers  \n",
       "0                          0                       0        0                0  \n",
       "1                          0                       0        0                0  \n",
       "2                          0                       0        0                0  \n",
       "3                          0                       0        0                0  \n",
       "4                          0                       0        0                0  \n",
       "\n",
       "[5 rows x 5642 columns]"
      ]
     },
     "execution_count": 30,
     "metadata": {},
     "output_type": "execute_result"
    }
   ],
   "source": [
    "rad.head()"
   ]
  },
  {
   "cell_type": "markdown",
   "metadata": {},
   "source": [
    "#### testing with euclidean metric "
   ]
  },
  {
   "cell_type": "code",
   "execution_count": 31,
   "metadata": {},
   "outputs": [],
   "source": [
    "# preparing training and testing samples\n",
    "rad_train, rad_test = train_test_split(rad, \n",
    "                                       random_state=429,\n",
    "                                       shuffle = True,\n",
    "                                       test_size = 0.2,\n",
    "                                       stratify = rad.cuisine)"
   ]
  },
  {
   "cell_type": "code",
   "execution_count": 32,
   "metadata": {},
   "outputs": [
    {
     "name": "stdout",
     "output_type": "stream",
     "text": [
      "trying 1 neighbor classifier: test set accuracy = 0.5407919547454432\n",
      "trying 2 neighbor classifier: test set accuracy = 0.49981143934632305\n",
      "trying 3 neighbor classifier: test set accuracy = 0.5274670018856066\n",
      "trying 4 neighbor classifier: test set accuracy = 0.5409176618478944\n",
      "trying 5 neighbor classifier: test set accuracy = 0.5478315524827153\n",
      "trying 6 neighbor classifier: test set accuracy = 0.5503456945317411\n",
      "trying 7 neighbor classifier: test set accuracy = 0.5463230672532998\n",
      "trying 8 neighbor classifier: test set accuracy = 0.5512256442489001\n",
      "trying 9 neighbor classifier: test set accuracy = 0.5513513513513514\n",
      "trying 10 neighbor classifier: test set accuracy = 0.5490886235072282\n",
      "trying 11 neighbor classifier: test set accuracy = 0.549465744814582\n",
      "trying 12 neighbor classifier: test set accuracy = 0.5503456945317411\n",
      "trying 13 neighbor classifier: test set accuracy = 0.5474544311753614\n",
      "trying 14 neighbor classifier: test set accuracy = 0.5497171590194846\n",
      "trying 15 neighbor classifier: test set accuracy = 0.5517284726587052\n"
     ]
    },
    {
     "data": {
      "image/png": "[encoded data removed]",
      "text/plain": [
       "<Figure size 432x288 with 1 Axes>"
      ]
     },
     "metadata": {
      "needs_background": "light"
     },
     "output_type": "display_data"
    }
   ],
   "source": [
    "# COMPUTATION TIME: 33 min for 15 iterations (2 min 15 sec/iteration)\n",
    "rad_acc_euclidean = knn_tester(rad_train, rad_test, range(1,16), 'euclidean')"
   ]
  },
  {
   "cell_type": "code",
   "execution_count": 33,
   "metadata": {},
   "outputs": [
    {
     "name": "stdout",
     "output_type": "stream",
     "text": [
      "maximum accuracy = 0.5517284726587052 at k = 15\n"
     ]
    }
   ],
   "source": [
    "print(\"maximum accuracy =\", rad_acc_euclidean.max(), \"at k =\", rad_acc_euclidean.argmax()+1)"
   ]
  },
  {
   "cell_type": "markdown",
   "metadata": {},
   "source": [
    "#### testing with jaccard metric"
   ]
  },
  {
   "cell_type": "code",
   "execution_count": 41,
   "metadata": {},
   "outputs": [],
   "source": [
    "# WARNING: LONG COMPUTATION!\n",
    "# preparing data for jaccard metric\n",
    "ingreds = rad.columns[2:]\n",
    "rad[ingreds] = rad[ingreds].replace([0,1],[False,True])"
   ]
  },
  {
   "cell_type": "code",
   "execution_count": 42,
   "metadata": {},
   "outputs": [
    {
     "data": {
      "text/html": [
       "<div>\n",
       "<style scoped>\n",
       "    .dataframe tbody tr th:only-of-type {\n",
       "        vertical-align: middle;\n",
       "    }\n",
       "\n",
       "    .dataframe tbody tr th {\n",
       "        vertical-align: top;\n",
       "    }\n",
       "\n",
       "    .dataframe thead th {\n",
       "        text-align: right;\n",
       "    }\n",
       "</style>\n",
       "<table border=\"1\" class=\"dataframe\">\n",
       "  <thead>\n",
       "    <tr style=\"text-align: right;\">\n",
       "      <th></th>\n",
       "      <th>id</th>\n",
       "      <th>cuisine</th>\n",
       "      <th>salt</th>\n",
       "      <th>garlic</th>\n",
       "      <th>onions</th>\n",
       "      <th>olive oil</th>\n",
       "      <th>butter</th>\n",
       "      <th>water</th>\n",
       "      <th>black pepper</th>\n",
       "      <th>garlic cloves</th>\n",
       "      <th>...</th>\n",
       "      <th>vegetable-filled ravioli</th>\n",
       "      <th>fiber one</th>\n",
       "      <th>blackpepper</th>\n",
       "      <th>fettuccini</th>\n",
       "      <th>chicharron</th>\n",
       "      <th>hawaiian salt</th>\n",
       "      <th>cheesi doubl cheddar sauc</th>\n",
       "      <th>orange flavored brandy</th>\n",
       "      <th>dasheen</th>\n",
       "      <th>cheese crackers</th>\n",
       "    </tr>\n",
       "  </thead>\n",
       "  <tbody>\n",
       "    <tr>\n",
       "      <td>0</td>\n",
       "      <td>10259</td>\n",
       "      <td>greek</td>\n",
       "      <td>False</td>\n",
       "      <td>True</td>\n",
       "      <td>False</td>\n",
       "      <td>False</td>\n",
       "      <td>False</td>\n",
       "      <td>False</td>\n",
       "      <td>False</td>\n",
       "      <td>False</td>\n",
       "      <td>...</td>\n",
       "      <td>False</td>\n",
       "      <td>False</td>\n",
       "      <td>False</td>\n",
       "      <td>False</td>\n",
       "      <td>False</td>\n",
       "      <td>False</td>\n",
       "      <td>False</td>\n",
       "      <td>False</td>\n",
       "      <td>False</td>\n",
       "      <td>False</td>\n",
       "    </tr>\n",
       "    <tr>\n",
       "      <td>1</td>\n",
       "      <td>25693</td>\n",
       "      <td>southern_us</td>\n",
       "      <td>True</td>\n",
       "      <td>False</td>\n",
       "      <td>False</td>\n",
       "      <td>False</td>\n",
       "      <td>False</td>\n",
       "      <td>False</td>\n",
       "      <td>True</td>\n",
       "      <td>False</td>\n",
       "      <td>...</td>\n",
       "      <td>False</td>\n",
       "      <td>False</td>\n",
       "      <td>False</td>\n",
       "      <td>False</td>\n",
       "      <td>False</td>\n",
       "      <td>False</td>\n",
       "      <td>False</td>\n",
       "      <td>False</td>\n",
       "      <td>False</td>\n",
       "      <td>False</td>\n",
       "    </tr>\n",
       "    <tr>\n",
       "      <td>2</td>\n",
       "      <td>20130</td>\n",
       "      <td>filipino</td>\n",
       "      <td>True</td>\n",
       "      <td>False</td>\n",
       "      <td>False</td>\n",
       "      <td>False</td>\n",
       "      <td>True</td>\n",
       "      <td>False</td>\n",
       "      <td>False</td>\n",
       "      <td>False</td>\n",
       "      <td>...</td>\n",
       "      <td>False</td>\n",
       "      <td>False</td>\n",
       "      <td>False</td>\n",
       "      <td>False</td>\n",
       "      <td>False</td>\n",
       "      <td>False</td>\n",
       "      <td>False</td>\n",
       "      <td>False</td>\n",
       "      <td>False</td>\n",
       "      <td>False</td>\n",
       "    </tr>\n",
       "    <tr>\n",
       "      <td>3</td>\n",
       "      <td>22213</td>\n",
       "      <td>indian</td>\n",
       "      <td>True</td>\n",
       "      <td>False</td>\n",
       "      <td>False</td>\n",
       "      <td>False</td>\n",
       "      <td>False</td>\n",
       "      <td>True</td>\n",
       "      <td>False</td>\n",
       "      <td>False</td>\n",
       "      <td>...</td>\n",
       "      <td>False</td>\n",
       "      <td>False</td>\n",
       "      <td>False</td>\n",
       "      <td>False</td>\n",
       "      <td>False</td>\n",
       "      <td>False</td>\n",
       "      <td>False</td>\n",
       "      <td>False</td>\n",
       "      <td>False</td>\n",
       "      <td>False</td>\n",
       "    </tr>\n",
       "    <tr>\n",
       "      <td>4</td>\n",
       "      <td>13162</td>\n",
       "      <td>indian</td>\n",
       "      <td>True</td>\n",
       "      <td>False</td>\n",
       "      <td>True</td>\n",
       "      <td>False</td>\n",
       "      <td>True</td>\n",
       "      <td>True</td>\n",
       "      <td>True</td>\n",
       "      <td>False</td>\n",
       "      <td>...</td>\n",
       "      <td>False</td>\n",
       "      <td>False</td>\n",
       "      <td>False</td>\n",
       "      <td>False</td>\n",
       "      <td>False</td>\n",
       "      <td>False</td>\n",
       "      <td>False</td>\n",
       "      <td>False</td>\n",
       "      <td>False</td>\n",
       "      <td>False</td>\n",
       "    </tr>\n",
       "  </tbody>\n",
       "</table>\n",
       "<p>5 rows × 5642 columns</p>\n",
       "</div>"
      ],
      "text/plain": [
       "      id      cuisine   salt  garlic  onions  olive oil  butter  water  \\\n",
       "0  10259        greek  False    True   False      False   False  False   \n",
       "1  25693  southern_us   True   False   False      False   False  False   \n",
       "2  20130     filipino   True   False   False      False    True  False   \n",
       "3  22213       indian   True   False   False      False   False   True   \n",
       "4  13162       indian   True   False    True      False    True   True   \n",
       "\n",
       "   black pepper  garlic cloves  ...  vegetable-filled ravioli  fiber one  \\\n",
       "0         False          False  ...                     False      False   \n",
       "1          True          False  ...                     False      False   \n",
       "2         False          False  ...                     False      False   \n",
       "3         False          False  ...                     False      False   \n",
       "4          True          False  ...                     False      False   \n",
       "\n",
       "   blackpepper  fettuccini  chicharron  hawaiian salt  \\\n",
       "0        False       False       False          False   \n",
       "1        False       False       False          False   \n",
       "2        False       False       False          False   \n",
       "3        False       False       False          False   \n",
       "4        False       False       False          False   \n",
       "\n",
       "   cheesi doubl cheddar sauc  orange flavored brandy  dasheen  cheese crackers  \n",
       "0                      False                   False    False            False  \n",
       "1                      False                   False    False            False  \n",
       "2                      False                   False    False            False  \n",
       "3                      False                   False    False            False  \n",
       "4                      False                   False    False            False  \n",
       "\n",
       "[5 rows x 5642 columns]"
      ]
     },
     "execution_count": 42,
     "metadata": {},
     "output_type": "execute_result"
    }
   ],
   "source": [
    "rad.head()"
   ]
  },
  {
   "cell_type": "code",
   "execution_count": 43,
   "metadata": {},
   "outputs": [],
   "source": [
    "# preparing training and testing samples\n",
    "rad_train, rad_test = train_test_split(rad, \n",
    "                                       random_state=429,\n",
    "                                       shuffle = True,\n",
    "                                       test_size = 0.2,\n",
    "                                       stratify = rad.cuisine)"
   ]
  },
  {
   "cell_type": "code",
   "execution_count": null,
   "metadata": {},
   "outputs": [],
   "source": [
    "## WARNING: LONG COMPUTATION!\n",
    "## COMPUTATION TIME: 10 hours for 15 iterations (40 min/iteration)\n",
    "#rad_acc_jaccard = knn_tester(rad_train,rad_test,range(1,16),'jaccard')"
   ]
  },
  {
   "cell_type": "raw",
   "metadata": {},
   "source": [
    "trying 1 neighbor classifier: test set accuracy = 0.6571967316153363\n",
    "trying 2 neighbor classifier: test set accuracy = 0.6225015713387806\n",
    "trying 3 neighbor classifier: test set accuracy = 0.6613450659962288\n",
    "trying 4 neighbor classifier: test set accuracy = 0.6745443117536141\n",
    "trying 5 neighbor classifier: test set accuracy = 0.6779384035197988\n",
    "trying 6 neighbor classifier: test set accuracy = 0.6859836580766814\n",
    "trying 7 neighbor classifier: test set accuracy = 0.6912633563796354\n",
    "trying 8 neighbor classifier: test set accuracy = 0.6930232558139535\n",
    "trying 9 neighbor classifier: test set accuracy = 0.6934003771213073\n",
    "trying 10 neighbor classifier: test set accuracy = 0.6972972972972973\n",
    "trying 11 neighbor classifier: test set accuracy = 0.6951602765556254\n",
    "trying 12 neighbor classifier: test set accuracy = 0.6970458830923947\n",
    "trying 13 neighbor classifier: test set accuracy = 0.6952859836580767\n",
    "trying 14 neighbor classifier: test set accuracy = 0.6955373978629793\n",
    "trying 15 neighbor classifier: test set accuracy = 0.6950345694531741\n",
    "\n"
   ]
  },
  {
   "attachments": {
    "image.png": {
     "image/png": "[encoded data removed]"
    }
   },
   "cell_type": "markdown",
   "metadata": {},
   "source": [
    "![image.png](attachment:image.png)"
   ]
  },
  {
   "cell_type": "code",
   "execution_count": null,
   "metadata": {},
   "outputs": [],
   "source": [
    "print(\"maximum accuracy =\", rad_acc_jaccard.max(), \"at k = \", rad_acc_jaccard.argmax()+1)"
   ]
  },
  {
   "cell_type": "raw",
   "metadata": {},
   "source": [
    "maximum accuracy = 0.6972972972972973 at k = 10"
   ]
  },
  {
   "cell_type": "markdown",
   "metadata": {},
   "source": [
    "#### Conclusion 2:"
   ]
  },
  {
   "cell_type": "markdown",
   "metadata": {},
   "source": [
    "On \"removed_adj_data\" dataframe the jaccard metric gives about 14.5% better accuracy over the euclidean (0.697297 vs 0.551728). Compared to \"key_words_data\" dataframe, the jaccard metric gives only 1% better accuracy, but the speed is prohibitively slow. For both metrics the values of  𝑘  level off at about  𝑘=9 , and after that change insignificantly. "
   ]
  },
  {
   "cell_type": "markdown",
   "metadata": {},
   "source": [
    "It seems reasonable to keep working with \"key_words_data\" dataframe with jaccard metric, if we would like to add n-fold cross-validation."
   ]
  },
  {
   "cell_type": "code",
   "execution_count": null,
   "metadata": {},
   "outputs": [],
   "source": []
  }
 ],
 "metadata": {
  "kernelspec": {
   "display_name": "Python 3",
   "language": "python",
   "name": "python3"
  },
  "language_info": {
   "codemirror_mode": {
    "name": "ipython",
    "version": 3
   },
   "file_extension": ".py",
   "mimetype": "text/x-python",
   "name": "python",
   "nbconvert_exporter": "python",
   "pygments_lexer": "ipython3",
   "version": "3.7.4"
  }
 },
 "nbformat": 4,
 "nbformat_minor": 2
}
